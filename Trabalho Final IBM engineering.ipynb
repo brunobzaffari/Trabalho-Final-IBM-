{
  "cells": [
    {
      "cell_type": "code",
      "execution_count": null,
      "metadata": {
        "colab": {
          "base_uri": "https://localhost:8080/"
        },
        "id": "FjK5zNmsLIXl",
        "outputId": "111349cd-341a-4d40-e966-b802d40db92f"
      },
      "outputs": [
        {
          "output_type": "stream",
          "name": "stdout",
          "text": [
            "Requirement already satisfied: skillsnetwork in /usr/local/lib/python3.10/dist-packages (0.21.9)\n",
            "Requirement already satisfied: ipython in /usr/local/lib/python3.10/dist-packages (from skillsnetwork) (7.34.0)\n",
            "Requirement already satisfied: ipywidgets<9,>=8 in /usr/local/lib/python3.10/dist-packages (from skillsnetwork) (8.1.3)\n",
            "Requirement already satisfied: requests<3,>=2 in /usr/local/lib/python3.10/dist-packages (from skillsnetwork) (2.32.3)\n",
            "Requirement already satisfied: tqdm<5,>=4 in /usr/local/lib/python3.10/dist-packages (from skillsnetwork) (4.66.5)\n",
            "Requirement already satisfied: comm>=0.1.3 in /usr/local/lib/python3.10/dist-packages (from ipywidgets<9,>=8->skillsnetwork) (0.2.2)\n",
            "Requirement already satisfied: traitlets>=4.3.1 in /usr/local/lib/python3.10/dist-packages (from ipywidgets<9,>=8->skillsnetwork) (5.7.1)\n",
            "Requirement already satisfied: widgetsnbextension~=4.0.11 in /usr/local/lib/python3.10/dist-packages (from ipywidgets<9,>=8->skillsnetwork) (4.0.11)\n",
            "Requirement already satisfied: jupyterlab-widgets~=3.0.11 in /usr/local/lib/python3.10/dist-packages (from ipywidgets<9,>=8->skillsnetwork) (3.0.11)\n",
            "Requirement already satisfied: setuptools>=18.5 in /usr/local/lib/python3.10/dist-packages (from ipython->skillsnetwork) (71.0.4)\n",
            "Requirement already satisfied: jedi>=0.16 in /usr/local/lib/python3.10/dist-packages (from ipython->skillsnetwork) (0.19.1)\n",
            "Requirement already satisfied: decorator in /usr/local/lib/python3.10/dist-packages (from ipython->skillsnetwork) (4.4.2)\n",
            "Requirement already satisfied: pickleshare in /usr/local/lib/python3.10/dist-packages (from ipython->skillsnetwork) (0.7.5)\n",
            "Requirement already satisfied: prompt-toolkit!=3.0.0,!=3.0.1,<3.1.0,>=2.0.0 in /usr/local/lib/python3.10/dist-packages (from ipython->skillsnetwork) (3.0.47)\n",
            "Requirement already satisfied: pygments in /usr/local/lib/python3.10/dist-packages (from ipython->skillsnetwork) (2.16.1)\n",
            "Requirement already satisfied: backcall in /usr/local/lib/python3.10/dist-packages (from ipython->skillsnetwork) (0.2.0)\n",
            "Requirement already satisfied: matplotlib-inline in /usr/local/lib/python3.10/dist-packages (from ipython->skillsnetwork) (0.1.7)\n",
            "Requirement already satisfied: pexpect>4.3 in /usr/local/lib/python3.10/dist-packages (from ipython->skillsnetwork) (4.9.0)\n",
            "Requirement already satisfied: charset-normalizer<4,>=2 in /usr/local/lib/python3.10/dist-packages (from requests<3,>=2->skillsnetwork) (3.3.2)\n",
            "Requirement already satisfied: idna<4,>=2.5 in /usr/local/lib/python3.10/dist-packages (from requests<3,>=2->skillsnetwork) (3.7)\n",
            "Requirement already satisfied: urllib3<3,>=1.21.1 in /usr/local/lib/python3.10/dist-packages (from requests<3,>=2->skillsnetwork) (2.0.7)\n",
            "Requirement already satisfied: certifi>=2017.4.17 in /usr/local/lib/python3.10/dist-packages (from requests<3,>=2->skillsnetwork) (2024.7.4)\n",
            "Requirement already satisfied: parso<0.9.0,>=0.8.3 in /usr/local/lib/python3.10/dist-packages (from jedi>=0.16->ipython->skillsnetwork) (0.8.4)\n",
            "Requirement already satisfied: ptyprocess>=0.5 in /usr/local/lib/python3.10/dist-packages (from pexpect>4.3->ipython->skillsnetwork) (0.7.0)\n",
            "Requirement already satisfied: wcwidth in /usr/local/lib/python3.10/dist-packages (from prompt-toolkit!=3.0.0,!=3.0.1,<3.1.0,>=2.0.0->ipython->skillsnetwork) (0.2.13)\n",
            "Requirement already satisfied: tensorflow in /usr/local/lib/python3.10/dist-packages (2.17.0)\n",
            "Requirement already satisfied: absl-py>=1.0.0 in /usr/local/lib/python3.10/dist-packages (from tensorflow) (1.4.0)\n",
            "Requirement already satisfied: astunparse>=1.6.0 in /usr/local/lib/python3.10/dist-packages (from tensorflow) (1.6.3)\n",
            "Requirement already satisfied: flatbuffers>=24.3.25 in /usr/local/lib/python3.10/dist-packages (from tensorflow) (24.3.25)\n",
            "Requirement already satisfied: gast!=0.5.0,!=0.5.1,!=0.5.2,>=0.2.1 in /usr/local/lib/python3.10/dist-packages (from tensorflow) (0.6.0)\n",
            "Requirement already satisfied: google-pasta>=0.1.1 in /usr/local/lib/python3.10/dist-packages (from tensorflow) (0.2.0)\n",
            "Requirement already satisfied: h5py>=3.10.0 in /usr/local/lib/python3.10/dist-packages (from tensorflow) (3.11.0)\n",
            "Requirement already satisfied: libclang>=13.0.0 in /usr/local/lib/python3.10/dist-packages (from tensorflow) (18.1.1)\n",
            "Requirement already satisfied: ml-dtypes<0.5.0,>=0.3.1 in /usr/local/lib/python3.10/dist-packages (from tensorflow) (0.4.0)\n",
            "Requirement already satisfied: opt-einsum>=2.3.2 in /usr/local/lib/python3.10/dist-packages (from tensorflow) (3.3.0)\n",
            "Requirement already satisfied: packaging in /usr/local/lib/python3.10/dist-packages (from tensorflow) (24.1)\n",
            "Requirement already satisfied: protobuf!=4.21.0,!=4.21.1,!=4.21.2,!=4.21.3,!=4.21.4,!=4.21.5,<5.0.0dev,>=3.20.3 in /usr/local/lib/python3.10/dist-packages (from tensorflow) (3.20.3)\n",
            "Requirement already satisfied: requests<3,>=2.21.0 in /usr/local/lib/python3.10/dist-packages (from tensorflow) (2.32.3)\n",
            "Requirement already satisfied: setuptools in /usr/local/lib/python3.10/dist-packages (from tensorflow) (71.0.4)\n",
            "Requirement already satisfied: six>=1.12.0 in /usr/local/lib/python3.10/dist-packages (from tensorflow) (1.16.0)\n",
            "Requirement already satisfied: termcolor>=1.1.0 in /usr/local/lib/python3.10/dist-packages (from tensorflow) (2.4.0)\n",
            "Requirement already satisfied: typing-extensions>=3.6.6 in /usr/local/lib/python3.10/dist-packages (from tensorflow) (4.12.2)\n",
            "Requirement already satisfied: wrapt>=1.11.0 in /usr/local/lib/python3.10/dist-packages (from tensorflow) (1.16.0)\n",
            "Requirement already satisfied: grpcio<2.0,>=1.24.3 in /usr/local/lib/python3.10/dist-packages (from tensorflow) (1.64.1)\n",
            "Requirement already satisfied: tensorboard<2.18,>=2.17 in /usr/local/lib/python3.10/dist-packages (from tensorflow) (2.17.0)\n",
            "Requirement already satisfied: keras>=3.2.0 in /usr/local/lib/python3.10/dist-packages (from tensorflow) (3.4.1)\n",
            "Requirement already satisfied: tensorflow-io-gcs-filesystem>=0.23.1 in /usr/local/lib/python3.10/dist-packages (from tensorflow) (0.37.1)\n",
            "Requirement already satisfied: numpy<2.0.0,>=1.23.5 in /usr/local/lib/python3.10/dist-packages (from tensorflow) (1.26.4)\n",
            "Requirement already satisfied: wheel<1.0,>=0.23.0 in /usr/local/lib/python3.10/dist-packages (from astunparse>=1.6.0->tensorflow) (0.44.0)\n",
            "Requirement already satisfied: rich in /usr/local/lib/python3.10/dist-packages (from keras>=3.2.0->tensorflow) (13.7.1)\n",
            "Requirement already satisfied: namex in /usr/local/lib/python3.10/dist-packages (from keras>=3.2.0->tensorflow) (0.0.8)\n",
            "Requirement already satisfied: optree in /usr/local/lib/python3.10/dist-packages (from keras>=3.2.0->tensorflow) (0.12.1)\n",
            "Requirement already satisfied: charset-normalizer<4,>=2 in /usr/local/lib/python3.10/dist-packages (from requests<3,>=2.21.0->tensorflow) (3.3.2)\n",
            "Requirement already satisfied: idna<4,>=2.5 in /usr/local/lib/python3.10/dist-packages (from requests<3,>=2.21.0->tensorflow) (3.7)\n",
            "Requirement already satisfied: urllib3<3,>=1.21.1 in /usr/local/lib/python3.10/dist-packages (from requests<3,>=2.21.0->tensorflow) (2.0.7)\n",
            "Requirement already satisfied: certifi>=2017.4.17 in /usr/local/lib/python3.10/dist-packages (from requests<3,>=2.21.0->tensorflow) (2024.7.4)\n",
            "Requirement already satisfied: markdown>=2.6.8 in /usr/local/lib/python3.10/dist-packages (from tensorboard<2.18,>=2.17->tensorflow) (3.6)\n",
            "Requirement already satisfied: tensorboard-data-server<0.8.0,>=0.7.0 in /usr/local/lib/python3.10/dist-packages (from tensorboard<2.18,>=2.17->tensorflow) (0.7.2)\n",
            "Requirement already satisfied: werkzeug>=1.0.1 in /usr/local/lib/python3.10/dist-packages (from tensorboard<2.18,>=2.17->tensorflow) (3.0.3)\n",
            "Requirement already satisfied: MarkupSafe>=2.1.1 in /usr/local/lib/python3.10/dist-packages (from werkzeug>=1.0.1->tensorboard<2.18,>=2.17->tensorflow) (2.1.5)\n",
            "Requirement already satisfied: markdown-it-py>=2.2.0 in /usr/local/lib/python3.10/dist-packages (from rich->keras>=3.2.0->tensorflow) (3.0.0)\n",
            "Requirement already satisfied: pygments<3.0.0,>=2.13.0 in /usr/local/lib/python3.10/dist-packages (from rich->keras>=3.2.0->tensorflow) (2.16.1)\n",
            "Requirement already satisfied: mdurl~=0.1 in /usr/local/lib/python3.10/dist-packages (from markdown-it-py>=2.2.0->rich->keras>=3.2.0->tensorflow) (0.1.2)\n"
          ]
        }
      ],
      "source": [
        "!pip install skillsnetwork\n",
        "import skillsnetwork\n",
        "!pip install --upgrade tensorflow\n",
        "from google.colab import output\n",
        "output.enable_custom_widget_manager()"
      ]
    },
    {
      "cell_type": "code",
      "execution_count": null,
      "metadata": {
        "id": "fHa1_e8XLdfS"
      },
      "outputs": [],
      "source": [
        "import tensorflow as tf\n",
        "from tensorflow.keras.models import Sequential\n",
        "from tensorflow.keras.layers import Dense, Flatten, BatchNormalization, Activation\n",
        "from tensorflow.keras.preprocessing.image import ImageDataGenerator\n",
        "from tensorflow.keras.optimizers import Adam\n",
        "from tensorflow.keras.models import load_model"
      ]
    },
    {
      "cell_type": "code",
      "execution_count": null,
      "metadata": {
        "id": "Ai6YUXhbLdWd"
      },
      "outputs": [],
      "source": [
        "from tensorflow.keras.applications import ResNet50\n",
        "from tensorflow.keras.applications.resnet50 import preprocess_input as preprocess_input_resnet"
      ]
    },
    {
      "cell_type": "code",
      "execution_count": null,
      "metadata": {
        "id": "2NVE-9_JMAtV"
      },
      "outputs": [],
      "source": [
        "from tensorflow.keras.applications import VGG16\n",
        "from tensorflow.keras.applications.vgg16 import preprocess_input as preprocess_input_vgg"
      ]
    },
    {
      "cell_type": "code",
      "execution_count": null,
      "metadata": {
        "colab": {
          "referenced_widgets": [
            "d51df436c8284614ab2dce50daa185ac",
            "2db292907dfc45358add59ca6863b537",
            "c62003949ab64e7ba45b9d157f5d3f6c",
            "6069ec42a24641d29e7c2798c14cf649",
            "fbe4fecac32c401dad5b7e565c57a5bb",
            "9bcd8ba7a9a0434f8df54ec9e9eb1eb0",
            "6a33e9c24211461cbf9ad4ad3cd55810",
            "70914f30154647bf8926d0dfe1a8d177",
            "4f1649e5f43e41c9bade0fe94bcfd11e",
            "7df841d848804fe98ab3fccee1772aeb",
            "c3eac3f7cf6347b2a188d5045f47796b",
            "42ed032bc6ff4336bfd777f24ee9c384",
            "579eb73624d9488b9ca6ff7398b742c0",
            "fb813e22278445b284a53a00c2530c7e",
            "97abec5167f04e789d2eaea3b29fb187",
            "005c4fff459a4cbab8164d19dd4d4749",
            "9d3ee25e062a4fbbb30e86f363ea481e",
            "af239f5de4e6486e95fc753827cf1613",
            "3fac5b61623c43588e8a9623da4465a8",
            "25a03165d239407fa9b8969f2aebf935",
            "945428a7b98c4758bd0cfafae75dd0aa",
            "845b4963e5ff40019a0d47c27f0ac637"
          ],
          "base_uri": "https://localhost:8080/",
          "height": 34
        },
        "id": "in4NDnEcLdMw",
        "outputId": "f1ea2163-95cc-42e9-ab3e-8410965628ab"
      },
      "outputs": [
        {
          "output_type": "display_data",
          "data": {
            "text/plain": [
              "Downloading concrete_data_week3.zip:   0%|          | 0/97863179 [00:00<?, ?it/s]"
            ],
            "application/vnd.jupyter.widget-view+json": {
              "version_major": 2,
              "version_minor": 0,
              "model_id": "d51df436c8284614ab2dce50daa185ac"
            }
          },
          "metadata": {
            "application/vnd.jupyter.widget-view+json": {
              "colab": {
                "custom_widget_manager": {
                  "url": "https://ssl.gstatic.com/colaboratory-static/widgets/colab-cdn-widget-manager/2b70e893a8ba7c0f/manager.min.js"
                }
              }
            }
          }
        },
        {
          "output_type": "display_data",
          "data": {
            "text/plain": [
              "  0%|          | 0/30036 [00:00<?, ?it/s]"
            ],
            "application/vnd.jupyter.widget-view+json": {
              "version_major": 2,
              "version_minor": 0,
              "model_id": "845b4963e5ff40019a0d47c27f0ac637"
            }
          },
          "metadata": {
            "application/vnd.jupyter.widget-view+json": {
              "colab": {
                "custom_widget_manager": {
                  "url": "https://ssl.gstatic.com/colaboratory-static/widgets/colab-cdn-widget-manager/2b70e893a8ba7c0f/manager.min.js"
                }
              }
            }
          }
        },
        {
          "output_type": "stream",
          "name": "stdout",
          "text": [
            "Saved to '.'\n"
          ]
        }
      ],
      "source": [
        "# get the data\n",
        "await skillsnetwork.prepare(\"https://cf-courses-data.s3.us.cloud-object-storage.appdomain.cloud/IBMDeveloperSkillsNetwork-DL0321EN-SkillsNetwork/concrete_data_week3.zip\", overwrite=True)"
      ]
    },
    {
      "cell_type": "code",
      "execution_count": null,
      "metadata": {
        "id": "_vED5TDHLdB4"
      },
      "outputs": [],
      "source": [
        "image_resize = 224\n",
        "\n",
        "batch_size_training = 100\n",
        "batch_size_validation = 100"
      ]
    },
    {
      "cell_type": "code",
      "execution_count": null,
      "metadata": {
        "colab": {
          "base_uri": "https://localhost:8080/"
        },
        "id": "XIZiYxczLc4D",
        "outputId": "90f5dfb9-bb47-4800-bb17-1fa5d506c4ca"
      },
      "outputs": [
        {
          "output_type": "stream",
          "name": "stdout",
          "text": [
            "Found 10001 images belonging to 2 classes.\n",
            "Found 5001 images belonging to 2 classes.\n"
          ]
        }
      ],
      "source": [
        "data_generator = ImageDataGenerator(preprocessing_function=preprocess_input_resnet)\n",
        "\n",
        "train_generator = data_generator.flow_from_directory(\n",
        "    'concrete_data_week3/train',\n",
        "    target_size=(image_resize, image_resize),\n",
        "    batch_size=batch_size_training,\n",
        "    class_mode='categorical')\n",
        "## Type your answer here\n",
        "validation_generator = data_generator.flow_from_directory(\n",
        "    'concrete_data_week3/valid',\n",
        "    target_size=(image_resize, image_resize),\n",
        "    batch_size=batch_size_validation,\n",
        "    class_mode='categorical'\n",
        ")"
      ]
    },
    {
      "cell_type": "code",
      "execution_count": null,
      "metadata": {
        "id": "x0yYohRGLcuL"
      },
      "outputs": [],
      "source": [
        "model = Sequential()"
      ]
    },
    {
      "cell_type": "code",
      "execution_count": null,
      "metadata": {
        "id": "xeSd-4WGLcV0"
      },
      "outputs": [],
      "source": [
        "model.add(ResNet50(\n",
        "    include_top=False,\n",
        "    pooling='avg',\n",
        "    weights='imagenet',\n",
        "    input_shape=(224, 224, 3)\n",
        "    ))\n",
        "#model.summary()"
      ]
    },
    {
      "cell_type": "code",
      "execution_count": null,
      "metadata": {
        "id": "r1zSvgwPLcKY"
      },
      "outputs": [],
      "source": [
        "model.add(Flatten())\n",
        "model.add(Dense(128))\n",
        "model.add(BatchNormalization())\n",
        "model.add(Activation('relu'))\n",
        "model.add(Dense(128))\n",
        "model.add(BatchNormalization())\n",
        "model.add(Activation('relu'))\n",
        "model.add(Dense(2, activation='softmax'))"
      ]
    },
    {
      "cell_type": "code",
      "execution_count": null,
      "metadata": {
        "colab": {
          "base_uri": "https://localhost:8080/"
        },
        "id": "wbcskppSLcCd",
        "outputId": "6fe9c4a8-3d48-426a-cfd5-e06deecb5ff3"
      },
      "outputs": [
        {
          "output_type": "execute_result",
          "data": {
            "text/plain": [
              "[<Functional name=resnet50, built=True>,\n",
              " <Flatten name=flatten, built=False>,\n",
              " <Dense name=dense, built=False>,\n",
              " <BatchNormalization name=batch_normalization, built=False>,\n",
              " <Activation name=activation, built=False>,\n",
              " <Dense name=dense_1, built=False>,\n",
              " <BatchNormalization name=batch_normalization_1, built=False>,\n",
              " <Activation name=activation_1, built=False>,\n",
              " <Dense name=dense_2, built=False>]"
            ]
          },
          "metadata": {},
          "execution_count": 11
        }
      ],
      "source": [
        "model.layers"
      ]
    },
    {
      "cell_type": "code",
      "execution_count": null,
      "metadata": {
        "colab": {
          "base_uri": "https://localhost:8080/"
        },
        "id": "mICrPZGgLb4k",
        "outputId": "7ce892c3-7aa9-4958-8956-0df9208c681d"
      },
      "outputs": [
        {
          "output_type": "execute_result",
          "data": {
            "text/plain": [
              "[<InputLayer name=input_layer, built=True>,\n",
              " <ZeroPadding2D name=conv1_pad, built=True>,\n",
              " <Conv2D name=conv1_conv, built=True>,\n",
              " <BatchNormalization name=conv1_bn, built=True>,\n",
              " <Activation name=conv1_relu, built=True>,\n",
              " <ZeroPadding2D name=pool1_pad, built=True>,\n",
              " <MaxPooling2D name=pool1_pool, built=True>,\n",
              " <Conv2D name=conv2_block1_1_conv, built=True>,\n",
              " <BatchNormalization name=conv2_block1_1_bn, built=True>,\n",
              " <Activation name=conv2_block1_1_relu, built=True>,\n",
              " <Conv2D name=conv2_block1_2_conv, built=True>,\n",
              " <BatchNormalization name=conv2_block1_2_bn, built=True>,\n",
              " <Activation name=conv2_block1_2_relu, built=True>,\n",
              " <Conv2D name=conv2_block1_0_conv, built=True>,\n",
              " <Conv2D name=conv2_block1_3_conv, built=True>,\n",
              " <BatchNormalization name=conv2_block1_0_bn, built=True>,\n",
              " <BatchNormalization name=conv2_block1_3_bn, built=True>,\n",
              " <Add name=conv2_block1_add, built=True>,\n",
              " <Activation name=conv2_block1_out, built=True>,\n",
              " <Conv2D name=conv2_block2_1_conv, built=True>,\n",
              " <BatchNormalization name=conv2_block2_1_bn, built=True>,\n",
              " <Activation name=conv2_block2_1_relu, built=True>,\n",
              " <Conv2D name=conv2_block2_2_conv, built=True>,\n",
              " <BatchNormalization name=conv2_block2_2_bn, built=True>,\n",
              " <Activation name=conv2_block2_2_relu, built=True>,\n",
              " <Conv2D name=conv2_block2_3_conv, built=True>,\n",
              " <BatchNormalization name=conv2_block2_3_bn, built=True>,\n",
              " <Add name=conv2_block2_add, built=True>,\n",
              " <Activation name=conv2_block2_out, built=True>,\n",
              " <Conv2D name=conv2_block3_1_conv, built=True>,\n",
              " <BatchNormalization name=conv2_block3_1_bn, built=True>,\n",
              " <Activation name=conv2_block3_1_relu, built=True>,\n",
              " <Conv2D name=conv2_block3_2_conv, built=True>,\n",
              " <BatchNormalization name=conv2_block3_2_bn, built=True>,\n",
              " <Activation name=conv2_block3_2_relu, built=True>,\n",
              " <Conv2D name=conv2_block3_3_conv, built=True>,\n",
              " <BatchNormalization name=conv2_block3_3_bn, built=True>,\n",
              " <Add name=conv2_block3_add, built=True>,\n",
              " <Activation name=conv2_block3_out, built=True>,\n",
              " <Conv2D name=conv3_block1_1_conv, built=True>,\n",
              " <BatchNormalization name=conv3_block1_1_bn, built=True>,\n",
              " <Activation name=conv3_block1_1_relu, built=True>,\n",
              " <Conv2D name=conv3_block1_2_conv, built=True>,\n",
              " <BatchNormalization name=conv3_block1_2_bn, built=True>,\n",
              " <Activation name=conv3_block1_2_relu, built=True>,\n",
              " <Conv2D name=conv3_block1_0_conv, built=True>,\n",
              " <Conv2D name=conv3_block1_3_conv, built=True>,\n",
              " <BatchNormalization name=conv3_block1_0_bn, built=True>,\n",
              " <BatchNormalization name=conv3_block1_3_bn, built=True>,\n",
              " <Add name=conv3_block1_add, built=True>,\n",
              " <Activation name=conv3_block1_out, built=True>,\n",
              " <Conv2D name=conv3_block2_1_conv, built=True>,\n",
              " <BatchNormalization name=conv3_block2_1_bn, built=True>,\n",
              " <Activation name=conv3_block2_1_relu, built=True>,\n",
              " <Conv2D name=conv3_block2_2_conv, built=True>,\n",
              " <BatchNormalization name=conv3_block2_2_bn, built=True>,\n",
              " <Activation name=conv3_block2_2_relu, built=True>,\n",
              " <Conv2D name=conv3_block2_3_conv, built=True>,\n",
              " <BatchNormalization name=conv3_block2_3_bn, built=True>,\n",
              " <Add name=conv3_block2_add, built=True>,\n",
              " <Activation name=conv3_block2_out, built=True>,\n",
              " <Conv2D name=conv3_block3_1_conv, built=True>,\n",
              " <BatchNormalization name=conv3_block3_1_bn, built=True>,\n",
              " <Activation name=conv3_block3_1_relu, built=True>,\n",
              " <Conv2D name=conv3_block3_2_conv, built=True>,\n",
              " <BatchNormalization name=conv3_block3_2_bn, built=True>,\n",
              " <Activation name=conv3_block3_2_relu, built=True>,\n",
              " <Conv2D name=conv3_block3_3_conv, built=True>,\n",
              " <BatchNormalization name=conv3_block3_3_bn, built=True>,\n",
              " <Add name=conv3_block3_add, built=True>,\n",
              " <Activation name=conv3_block3_out, built=True>,\n",
              " <Conv2D name=conv3_block4_1_conv, built=True>,\n",
              " <BatchNormalization name=conv3_block4_1_bn, built=True>,\n",
              " <Activation name=conv3_block4_1_relu, built=True>,\n",
              " <Conv2D name=conv3_block4_2_conv, built=True>,\n",
              " <BatchNormalization name=conv3_block4_2_bn, built=True>,\n",
              " <Activation name=conv3_block4_2_relu, built=True>,\n",
              " <Conv2D name=conv3_block4_3_conv, built=True>,\n",
              " <BatchNormalization name=conv3_block4_3_bn, built=True>,\n",
              " <Add name=conv3_block4_add, built=True>,\n",
              " <Activation name=conv3_block4_out, built=True>,\n",
              " <Conv2D name=conv4_block1_1_conv, built=True>,\n",
              " <BatchNormalization name=conv4_block1_1_bn, built=True>,\n",
              " <Activation name=conv4_block1_1_relu, built=True>,\n",
              " <Conv2D name=conv4_block1_2_conv, built=True>,\n",
              " <BatchNormalization name=conv4_block1_2_bn, built=True>,\n",
              " <Activation name=conv4_block1_2_relu, built=True>,\n",
              " <Conv2D name=conv4_block1_0_conv, built=True>,\n",
              " <Conv2D name=conv4_block1_3_conv, built=True>,\n",
              " <BatchNormalization name=conv4_block1_0_bn, built=True>,\n",
              " <BatchNormalization name=conv4_block1_3_bn, built=True>,\n",
              " <Add name=conv4_block1_add, built=True>,\n",
              " <Activation name=conv4_block1_out, built=True>,\n",
              " <Conv2D name=conv4_block2_1_conv, built=True>,\n",
              " <BatchNormalization name=conv4_block2_1_bn, built=True>,\n",
              " <Activation name=conv4_block2_1_relu, built=True>,\n",
              " <Conv2D name=conv4_block2_2_conv, built=True>,\n",
              " <BatchNormalization name=conv4_block2_2_bn, built=True>,\n",
              " <Activation name=conv4_block2_2_relu, built=True>,\n",
              " <Conv2D name=conv4_block2_3_conv, built=True>,\n",
              " <BatchNormalization name=conv4_block2_3_bn, built=True>,\n",
              " <Add name=conv4_block2_add, built=True>,\n",
              " <Activation name=conv4_block2_out, built=True>,\n",
              " <Conv2D name=conv4_block3_1_conv, built=True>,\n",
              " <BatchNormalization name=conv4_block3_1_bn, built=True>,\n",
              " <Activation name=conv4_block3_1_relu, built=True>,\n",
              " <Conv2D name=conv4_block3_2_conv, built=True>,\n",
              " <BatchNormalization name=conv4_block3_2_bn, built=True>,\n",
              " <Activation name=conv4_block3_2_relu, built=True>,\n",
              " <Conv2D name=conv4_block3_3_conv, built=True>,\n",
              " <BatchNormalization name=conv4_block3_3_bn, built=True>,\n",
              " <Add name=conv4_block3_add, built=True>,\n",
              " <Activation name=conv4_block3_out, built=True>,\n",
              " <Conv2D name=conv4_block4_1_conv, built=True>,\n",
              " <BatchNormalization name=conv4_block4_1_bn, built=True>,\n",
              " <Activation name=conv4_block4_1_relu, built=True>,\n",
              " <Conv2D name=conv4_block4_2_conv, built=True>,\n",
              " <BatchNormalization name=conv4_block4_2_bn, built=True>,\n",
              " <Activation name=conv4_block4_2_relu, built=True>,\n",
              " <Conv2D name=conv4_block4_3_conv, built=True>,\n",
              " <BatchNormalization name=conv4_block4_3_bn, built=True>,\n",
              " <Add name=conv4_block4_add, built=True>,\n",
              " <Activation name=conv4_block4_out, built=True>,\n",
              " <Conv2D name=conv4_block5_1_conv, built=True>,\n",
              " <BatchNormalization name=conv4_block5_1_bn, built=True>,\n",
              " <Activation name=conv4_block5_1_relu, built=True>,\n",
              " <Conv2D name=conv4_block5_2_conv, built=True>,\n",
              " <BatchNormalization name=conv4_block5_2_bn, built=True>,\n",
              " <Activation name=conv4_block5_2_relu, built=True>,\n",
              " <Conv2D name=conv4_block5_3_conv, built=True>,\n",
              " <BatchNormalization name=conv4_block5_3_bn, built=True>,\n",
              " <Add name=conv4_block5_add, built=True>,\n",
              " <Activation name=conv4_block5_out, built=True>,\n",
              " <Conv2D name=conv4_block6_1_conv, built=True>,\n",
              " <BatchNormalization name=conv4_block6_1_bn, built=True>,\n",
              " <Activation name=conv4_block6_1_relu, built=True>,\n",
              " <Conv2D name=conv4_block6_2_conv, built=True>,\n",
              " <BatchNormalization name=conv4_block6_2_bn, built=True>,\n",
              " <Activation name=conv4_block6_2_relu, built=True>,\n",
              " <Conv2D name=conv4_block6_3_conv, built=True>,\n",
              " <BatchNormalization name=conv4_block6_3_bn, built=True>,\n",
              " <Add name=conv4_block6_add, built=True>,\n",
              " <Activation name=conv4_block6_out, built=True>,\n",
              " <Conv2D name=conv5_block1_1_conv, built=True>,\n",
              " <BatchNormalization name=conv5_block1_1_bn, built=True>,\n",
              " <Activation name=conv5_block1_1_relu, built=True>,\n",
              " <Conv2D name=conv5_block1_2_conv, built=True>,\n",
              " <BatchNormalization name=conv5_block1_2_bn, built=True>,\n",
              " <Activation name=conv5_block1_2_relu, built=True>,\n",
              " <Conv2D name=conv5_block1_0_conv, built=True>,\n",
              " <Conv2D name=conv5_block1_3_conv, built=True>,\n",
              " <BatchNormalization name=conv5_block1_0_bn, built=True>,\n",
              " <BatchNormalization name=conv5_block1_3_bn, built=True>,\n",
              " <Add name=conv5_block1_add, built=True>,\n",
              " <Activation name=conv5_block1_out, built=True>,\n",
              " <Conv2D name=conv5_block2_1_conv, built=True>,\n",
              " <BatchNormalization name=conv5_block2_1_bn, built=True>,\n",
              " <Activation name=conv5_block2_1_relu, built=True>,\n",
              " <Conv2D name=conv5_block2_2_conv, built=True>,\n",
              " <BatchNormalization name=conv5_block2_2_bn, built=True>,\n",
              " <Activation name=conv5_block2_2_relu, built=True>,\n",
              " <Conv2D name=conv5_block2_3_conv, built=True>,\n",
              " <BatchNormalization name=conv5_block2_3_bn, built=True>,\n",
              " <Add name=conv5_block2_add, built=True>,\n",
              " <Activation name=conv5_block2_out, built=True>,\n",
              " <Conv2D name=conv5_block3_1_conv, built=True>,\n",
              " <BatchNormalization name=conv5_block3_1_bn, built=True>,\n",
              " <Activation name=conv5_block3_1_relu, built=True>,\n",
              " <Conv2D name=conv5_block3_2_conv, built=True>,\n",
              " <BatchNormalization name=conv5_block3_2_bn, built=True>,\n",
              " <Activation name=conv5_block3_2_relu, built=True>,\n",
              " <Conv2D name=conv5_block3_3_conv, built=True>,\n",
              " <BatchNormalization name=conv5_block3_3_bn, built=True>,\n",
              " <Add name=conv5_block3_add, built=True>,\n",
              " <Activation name=conv5_block3_out, built=True>,\n",
              " <GlobalAveragePooling2D name=avg_pool, built=True>]"
            ]
          },
          "metadata": {},
          "execution_count": 12
        }
      ],
      "source": [
        "model.layers[0].layers"
      ]
    },
    {
      "cell_type": "code",
      "execution_count": null,
      "metadata": {
        "id": "7Z0E3lyxLbvV"
      },
      "outputs": [],
      "source": [
        "model.layers[0].trainable = False"
      ]
    },
    {
      "cell_type": "code",
      "execution_count": null,
      "metadata": {
        "id": "URiXqZ8wLbb9"
      },
      "outputs": [],
      "source": [
        "model.compile(optimizer=Adam(learning_rate=0.0001), loss='categorical_crossentropy', metrics=['accuracy'])"
      ]
    },
    {
      "cell_type": "code",
      "execution_count": null,
      "metadata": {
        "colab": {
          "base_uri": "https://localhost:8080/"
        },
        "id": "mi7Ifz-5LbRO",
        "outputId": "51a3822d-6716-4572-b102-fc33d10736f8"
      },
      "outputs": [
        {
          "output_type": "execute_result",
          "data": {
            "text/plain": [
              "101"
            ]
          },
          "metadata": {},
          "execution_count": 15
        }
      ],
      "source": [
        "steps_per_epoch_training = len(train_generator)\n",
        "len(train_generator)\n"
      ]
    },
    {
      "cell_type": "code",
      "execution_count": null,
      "metadata": {
        "colab": {
          "base_uri": "https://localhost:8080/"
        },
        "id": "mN9EjnI1Rynz",
        "outputId": "d80f66be-c25e-494f-b510-fe11ae308162"
      },
      "outputs": [
        {
          "output_type": "execute_result",
          "data": {
            "text/plain": [
              "100"
            ]
          },
          "metadata": {},
          "execution_count": 16
        }
      ],
      "source": [
        "train_generator.samples // train_generator.batch_size"
      ]
    },
    {
      "cell_type": "code",
      "execution_count": null,
      "metadata": {
        "colab": {
          "base_uri": "https://localhost:8080/"
        },
        "id": "4arWJP9ZQf9h",
        "outputId": "3ddeb480-60b8-46df-b7ea-c524b67e3ed4"
      },
      "outputs": [
        {
          "output_type": "execute_result",
          "data": {
            "text/plain": [
              "51"
            ]
          },
          "metadata": {},
          "execution_count": 17
        }
      ],
      "source": [
        "steps_per_epoch_validation = len(validation_generator)\n",
        "num_epochs = 2\n",
        "len(validation_generator)"
      ]
    },
    {
      "cell_type": "code",
      "execution_count": null,
      "metadata": {
        "colab": {
          "base_uri": "https://localhost:8080/"
        },
        "id": "ZS9clSqynPJM",
        "outputId": "80f1456e-16ce-4b12-cb30-31ad671798a5"
      },
      "outputs": [
        {
          "output_type": "execute_result",
          "data": {
            "text/plain": [
              "50"
            ]
          },
          "metadata": {},
          "execution_count": 18
        }
      ],
      "source": [
        "validation_generator.samples // validation_generator.batch_size"
      ]
    },
    {
      "cell_type": "code",
      "execution_count": null,
      "metadata": {
        "id": "L0YncydlRzSF"
      },
      "outputs": [],
      "source": [
        "# for data in train_generator:\n",
        "#     print(data)\n",
        "#     break\n"
      ]
    },
    {
      "cell_type": "code",
      "execution_count": null,
      "metadata": {
        "colab": {
          "base_uri": "https://localhost:8080/"
        },
        "id": "0lzMcjduLbH1",
        "outputId": "b2d1e25f-00a8-4e3f-e759-b98070269764"
      },
      "outputs": [
        {
          "output_type": "stream",
          "name": "stdout",
          "text": [
            "Epoch 1/2\n"
          ]
        },
        {
          "output_type": "stream",
          "name": "stderr",
          "text": [
            "/usr/local/lib/python3.10/dist-packages/keras/src/trainers/data_adapters/py_dataset_adapter.py:121: UserWarning: Your `PyDataset` class should call `super().__init__(**kwargs)` in its constructor. `**kwargs` can include `workers`, `use_multiprocessing`, `max_queue_size`. Do not pass these arguments to `fit()`, as they will be ignored.\n",
            "  self._warn_if_super_not_called()\n"
          ]
        },
        {
          "output_type": "stream",
          "name": "stdout",
          "text": [
            "\u001b[1m100/100\u001b[0m \u001b[32m━━━━━━━━━━━━━━━━━━━━\u001b[0m\u001b[37m\u001b[0m \u001b[1m75s\u001b[0m 531ms/step - accuracy: 0.9236 - loss: 0.1932 - val_accuracy: 0.9932 - val_loss: 0.0595\n",
            "Epoch 2/2\n",
            "\u001b[1m  1/100\u001b[0m \u001b[37m━━━━━━━━━━━━━━━━━━━━\u001b[0m \u001b[1m23s\u001b[0m 234ms/step - accuracy: 1.0000 - loss: 0.0095"
          ]
        },
        {
          "output_type": "stream",
          "name": "stderr",
          "text": [
            "/usr/lib/python3.10/contextlib.py:153: UserWarning: Your input ran out of data; interrupting training. Make sure that your dataset or generator can generate at least `steps_per_epoch * epochs` batches. You may need to use the `.repeat()` function when building your dataset.\n",
            "  self.gen.throw(typ, value, traceback)\n"
          ]
        },
        {
          "output_type": "stream",
          "name": "stdout",
          "text": [
            "\b\b\b\b\b\b\b\b\b\b\b\b\b\b\b\b\b\b\b\b\b\b\b\b\b\b\b\b\b\b\b\b\b\b\b\b\b\b\b\b\b\b\b\b\b\b\b\b\b\b\b\b\b\b\b\b\b\b\b\b\b\b\b\b\b\b\b\b\b\b\b\b\b\b\b\b\b\r\u001b[1m100/100\u001b[0m \u001b[32m━━━━━━━━━━━━━━━━━━━━\u001b[0m\u001b[37m\u001b[0m \u001b[1m2s\u001b[0m 20ms/step - accuracy: 1.0000 - loss: 0.0095 - val_accuracy: 1.0000 - val_loss: 0.0417\n"
          ]
        }
      ],
      "source": [
        "fit_history = model.fit(\n",
        "    train_generator,\n",
        "    steps_per_epoch=100,\n",
        "    epochs=num_epochs,\n",
        "    validation_data=validation_generator,\n",
        "    validation_steps=50,\n",
        "    verbose=1,\n",
        ")"
      ]
    },
    {
      "cell_type": "code",
      "execution_count": null,
      "metadata": {
        "id": "ChUA4EcXLa_Q"
      },
      "outputs": [],
      "source": [
        "model.save('resnet_model.keras')"
      ]
    },
    {
      "cell_type": "code",
      "execution_count": null,
      "metadata": {
        "colab": {
          "referenced_widgets": [
            "130739f7f0f9402fb097c424675dad8d",
            "bc52f0572d184cb0b4f57bc9779cf00f",
            "4006d5079436416099c6ec3e494b739f",
            "3a045dc953254fba9a74f0e46f269c9a",
            "992ce3c27c144edb88109860dc3ec8a7",
            "0f0fc5cfadbd4d01b257d35f707b3169",
            "20c76972f1f949b793cdad2ed3d44a0a",
            "8d48edaa2d554fa5be26967dbb9904ec",
            "b3a6f55fc284481a84bc20d993aec882",
            "3a6446b00ab24f19a39ca32da331e6ef",
            "05a9fce1292e418b9cfa726f3e9ecfe0",
            "70add694681145ec9503fdace928e844",
            "8810902366cc49f68c5013c111cfa511",
            "b2db47c66d634f78a6a91438ae8f2da3",
            "52ce2a7fee02403c91b969067b3dbf9d",
            "80b5e8937eff473f891dfc6987bb6938",
            "34907ea3ca7749bcb087c39c90d0ee56",
            "516eb74e8d0945e6a18002622110e1d0",
            "5e163c302971464fabcd1efb003e6eda",
            "f8d26a5cb3e146b38af34d2c8045152c",
            "ca3d9b36502446b6ad384ef8d40eb70f",
            "13bea6beb40541e69f8085f523e010cd"
          ],
          "base_uri": "https://localhost:8080/",
          "height": 34
        },
        "id": "5GLNMIOfpE8f",
        "outputId": "a97e3b4f-0f54-4b48-c20a-3c2194b0d55d"
      },
      "outputs": [
        {
          "output_type": "display_data",
          "data": {
            "text/plain": [
              "Downloading concrete_data_week4.zip:   0%|          | 0/261483817 [00:00<?, ?it/s]"
            ],
            "application/vnd.jupyter.widget-view+json": {
              "version_major": 2,
              "version_minor": 0,
              "model_id": "130739f7f0f9402fb097c424675dad8d"
            }
          },
          "metadata": {
            "application/vnd.jupyter.widget-view+json": {
              "colab": {
                "custom_widget_manager": {
                  "url": "https://ssl.gstatic.com/colaboratory-static/widgets/colab-cdn-widget-manager/2b70e893a8ba7c0f/manager.min.js"
                }
              }
            }
          }
        },
        {
          "output_type": "display_data",
          "data": {
            "text/plain": [
              "  0%|          | 0/80045 [00:00<?, ?it/s]"
            ],
            "application/vnd.jupyter.widget-view+json": {
              "version_major": 2,
              "version_minor": 0,
              "model_id": "13bea6beb40541e69f8085f523e010cd"
            }
          },
          "metadata": {
            "application/vnd.jupyter.widget-view+json": {
              "colab": {
                "custom_widget_manager": {
                  "url": "https://ssl.gstatic.com/colaboratory-static/widgets/colab-cdn-widget-manager/2b70e893a8ba7c0f/manager.min.js"
                }
              }
            }
          }
        },
        {
          "output_type": "stream",
          "name": "stdout",
          "text": [
            "Saved to '.'\n"
          ]
        }
      ],
      "source": [
        "# get the data\n",
        "await skillsnetwork.prepare(\"https://s3-api.us-geo.objectstorage.softlayer.net/cf-courses-data/CognitiveClass/DL0321EN/data/concrete_data_week4.zip\", overwrite=True)"
      ]
    },
    {
      "cell_type": "code",
      "execution_count": null,
      "metadata": {
        "id": "oSzBVtIlzy6b"
      },
      "outputs": [],
      "source": [
        "# model = load_model('resnet_model.keras')"
      ]
    },
    {
      "cell_type": "code",
      "execution_count": null,
      "metadata": {
        "colab": {
          "base_uri": "https://localhost:8080/"
        },
        "id": "w5FgN1QkLa2K",
        "outputId": "83958192-e1d2-451d-a4f8-9b9dfa4e260b"
      },
      "outputs": [
        {
          "output_type": "stream",
          "name": "stdout",
          "text": [
            "Found 30001 images belonging to 2 classes.\n",
            "Found 9501 images belonging to 2 classes.\n"
          ]
        }
      ],
      "source": [
        "\n",
        "generator = ImageDataGenerator(preprocessing_function=preprocess_input_vgg)\n",
        "\n",
        "training_generator = generator.flow_from_directory(\n",
        "    'concrete_data_week4/train',\n",
        "    target_size=(image_resize, image_resize),\n",
        "    batch_size=batch_size_training,\n",
        "    class_mode=\"categorical\",\n",
        ")\n",
        "validation_generator = generator.flow_from_directory(\n",
        "    'concrete_data_week4/valid',\n",
        "    target_size=(image_resize, image_resize),\n",
        "    batch_size=batch_size_training,\n",
        "    class_mode=\"categorical\",\n",
        ")"
      ]
    },
    {
      "cell_type": "code",
      "execution_count": null,
      "metadata": {
        "id": "_p5t-Y6OLasK"
      },
      "outputs": [],
      "source": [
        "vgg16 = Sequential()"
      ]
    },
    {
      "cell_type": "code",
      "execution_count": null,
      "metadata": {
        "id": "05uRuR6GLaiE"
      },
      "outputs": [],
      "source": [
        "vgg16.add(VGG16(\n",
        "    include_top=False,\n",
        "    pooling=\"avg\",\n",
        "    weights=\"imagenet\",\n",
        "    input_shape=(image_resize, image_resize, 3)))\n"
      ]
    },
    {
      "cell_type": "code",
      "execution_count": null,
      "metadata": {
        "id": "qvtOP5klLaZD"
      },
      "outputs": [],
      "source": [
        "model.add(Flatten())\n",
        "model.add(Dense(128))\n",
        "model.add(BatchNormalization())\n",
        "model.add(Activation('relu'))\n",
        "model.add(Dense(128))\n",
        "model.add(BatchNormalization())\n",
        "model.add(Activation('relu'))\n",
        "vgg16.add(Dense(2, activation=\"softmax\"))\n",
        "vgg16.layers[0].trainable = False\n"
      ]
    },
    {
      "cell_type": "code",
      "source": [
        "steps_per_epoch_training = len(training_generator)\n",
        "len(training_generator)"
      ],
      "metadata": {
        "colab": {
          "base_uri": "https://localhost:8080/"
        },
        "id": "VI8Z9CNY0tEw",
        "outputId": "147324a9-2984-44c7-fbb5-ef12cf6ce9bb"
      },
      "execution_count": null,
      "outputs": [
        {
          "output_type": "execute_result",
          "data": {
            "text/plain": [
              "301"
            ]
          },
          "metadata": {},
          "execution_count": 28
        }
      ]
    },
    {
      "cell_type": "code",
      "source": [
        "training_generator.samples // training_generator.batch_size"
      ],
      "metadata": {
        "colab": {
          "base_uri": "https://localhost:8080/"
        },
        "id": "bSOCe3p61JxO",
        "outputId": "b5671fd3-d24b-4cd3-9201-c1fcaf21b643"
      },
      "execution_count": null,
      "outputs": [
        {
          "output_type": "execute_result",
          "data": {
            "text/plain": [
              "300"
            ]
          },
          "metadata": {},
          "execution_count": 29
        }
      ]
    },
    {
      "cell_type": "code",
      "source": [
        "\n",
        "steps_per_epoch_validation = len(validation_generator)\n",
        "len(validation_generator)"
      ],
      "metadata": {
        "colab": {
          "base_uri": "https://localhost:8080/"
        },
        "id": "VJWvRLYm0uYF",
        "outputId": "02f1ba06-1cbc-4544-a91a-dba7dfce4a53"
      },
      "execution_count": null,
      "outputs": [
        {
          "output_type": "execute_result",
          "data": {
            "text/plain": [
              "96"
            ]
          },
          "metadata": {},
          "execution_count": 30
        }
      ]
    },
    {
      "cell_type": "code",
      "source": [
        "validation_generator.samples // validation_generator.batch_size"
      ],
      "metadata": {
        "colab": {
          "base_uri": "https://localhost:8080/"
        },
        "id": "vj5T3Zyd1IhH",
        "outputId": "f9790380-bb4d-4388-d81e-86e54834c931"
      },
      "execution_count": null,
      "outputs": [
        {
          "output_type": "execute_result",
          "data": {
            "text/plain": [
              "95"
            ]
          },
          "metadata": {},
          "execution_count": 31
        }
      ]
    },
    {
      "cell_type": "code",
      "execution_count": null,
      "metadata": {
        "id": "8d4WK-eWLaIe"
      },
      "outputs": [],
      "source": [
        "vgg16.compile(optimizer=Adam(learning_rate=0.0001), loss=\"categorical_crossentropy\", metrics=[\"accuracy\"])"
      ]
    },
    {
      "cell_type": "code",
      "execution_count": null,
      "metadata": {
        "colab": {
          "base_uri": "https://localhost:8080/"
        },
        "id": "SFRiYQFPLZ9E",
        "outputId": "30cc871a-6deb-4eb1-9864-cd7e4c737110"
      },
      "outputs": [
        {
          "output_type": "stream",
          "name": "stdout",
          "text": [
            "Epoch 1/2\n",
            "\u001b[1m300/300\u001b[0m \u001b[32m━━━━━━━━━━━━━━━━━━━━\u001b[0m\u001b[37m\u001b[0m \u001b[1m203s\u001b[0m 658ms/step - accuracy: 0.7606 - loss: 0.4557 - val_accuracy: 0.9725 - val_loss: 0.1423\n",
            "Epoch 2/2\n",
            "\u001b[1m300/300\u001b[0m \u001b[32m━━━━━━━━━━━━━━━━━━━━\u001b[0m\u001b[37m\u001b[0m \u001b[1m1s\u001b[0m 3ms/step - accuracy: 0.9900 - loss: 0.1169 - val_accuracy: 1.0000 - val_loss: 3.5763e-06\n"
          ]
        }
      ],
      "source": [
        "num_epochs = 2\n",
        "\n",
        "vgg16_story = vgg16.fit(\n",
        "    training_generator,\n",
        "    steps_per_epoch=300,\n",
        "    epochs=num_epochs,\n",
        "    validation_data=validation_generator,\n",
        "    validation_steps=95,\n",
        "    verbose=1,\n",
        ")"
      ]
    },
    {
      "cell_type": "code",
      "execution_count": null,
      "metadata": {
        "colab": {
          "base_uri": "https://localhost:8080/"
        },
        "id": "o4b4MbRvLZxE",
        "outputId": "dd662f61-40af-4fe4-c1e3-c2101635cfef"
      },
      "outputs": [
        {
          "output_type": "stream",
          "name": "stderr",
          "text": [
            "WARNING:absl:You are saving your model as an HDF5 file via `model.save()` or `keras.saving.save_model(model)`. This file format is considered legacy. We recommend using instead the native Keras format, e.g. `model.save('my_model.keras')` or `keras.saving.save_model(model, 'my_model.keras')`. \n"
          ]
        }
      ],
      "source": [
        "vgg16.save(\"vgg16_model.keras\")"
      ]
    },
    {
      "cell_type": "code",
      "execution_count": null,
      "metadata": {
        "colab": {
          "base_uri": "https://localhost:8080/"
        },
        "id": "GIKo3Ln7LZYk",
        "outputId": "45cc6db9-6412-4d05-8d68-ff00c74532a4"
      },
      "outputs": [
        {
          "output_type": "stream",
          "name": "stdout",
          "text": [
            "Found 500 images belonging to 2 classes.\n"
          ]
        }
      ],
      "source": [
        "testing_generator = generator.flow_from_directory(\n",
        "    \"concrete_data_week4/test\", target_size=(image_resize, image_resize), shuffle=False,\n",
        ")"
      ]
    },
    {
      "cell_type": "code",
      "execution_count": null,
      "metadata": {
        "colab": {
          "base_uri": "https://localhost:8080/"
        },
        "id": "Bri9t9lRLZAP",
        "outputId": "7694b046-bd9a-4f37-ad66-95565b89f277"
      },
      "outputs": [
        {
          "output_type": "stream",
          "name": "stdout",
          "text": [
            "Found 10001 images belonging to 2 classes.\n",
            "Found 30001 images belonging to 2 classes.\n"
          ]
        }
      ],
      "source": [
        "# generator -> vgg\n",
        "x = generator.flow_from_directory(\n",
        "    'concrete_data_week3/train',\n",
        "    target_size=(image_resize, image_resize),\n",
        "    batch_size=100,\n",
        "    class_mode='categorical')\n",
        "# data_generator -> resnet\n",
        "y = data_generator.flow_from_directory(\n",
        "    'concrete_data_week4/train',\n",
        "    target_size=(image_resize, image_resize),\n",
        "    batch_size=batch_size_training,\n",
        "    class_mode=\"categorical\",\n",
        ")\n"
      ]
    },
    {
      "cell_type": "code",
      "source": [
        "resnet50_perf = model.evaluate(y, steps=4)# Dados usados para treinar o VGG16\n",
        "print(\"Loss: {}\".format(round(resnet50_perf[0], 5)))\n",
        "print(\"Accuracy: {}\".format(round(resnet50_perf[1], 5)))"
      ],
      "metadata": {
        "colab": {
          "base_uri": "https://localhost:8080/"
        },
        "id": "7XJ68lAa8NrJ",
        "outputId": "90fbf4b5-69f9-46de-8d85-8372593cb6c8"
      },
      "execution_count": null,
      "outputs": [
        {
          "output_type": "stream",
          "name": "stdout",
          "text": [
            "\u001b[1m4/4\u001b[0m \u001b[32m━━━━━━━━━━━━━━━━━━━━\u001b[0m\u001b[37m\u001b[0m \u001b[1m1s\u001b[0m 281ms/step - accuracy: 0.9983 - loss: 0.0480\n",
            "Loss: 0.04992\n",
            "Accuracy: 0.9975\n"
          ]
        }
      ]
    },
    {
      "cell_type": "code",
      "execution_count": null,
      "metadata": {
        "colab": {
          "base_uri": "https://localhost:8080/"
        },
        "id": "nYwU1ChgLXGi",
        "outputId": "7222f0de-0240-4c7e-d924-11e0d92f3d41"
      },
      "outputs": [
        {
          "output_type": "stream",
          "name": "stdout",
          "text": [
            "\u001b[1m4/4\u001b[0m \u001b[32m━━━━━━━━━━━━━━━━━━━━\u001b[0m\u001b[37m\u001b[0m \u001b[1m2s\u001b[0m 415ms/step - accuracy: 0.9703 - loss: 0.1349\n",
            "Loss: 0.1281\n",
            "Accuracy: 0.9725\n"
          ]
        }
      ],
      "source": [
        "vgg16_perf = vgg16.evaluate(x, steps=4)# Dados usados para treinar o ResNet50\n",
        "print(\"Loss: {}\".format(round(vgg16_perf[0], 5)))\n",
        "print(\"Accuracy: {}\".format(round(vgg16_perf[1], 5)))"
      ]
    },
    {
      "cell_type": "code",
      "execution_count": null,
      "metadata": {
        "colab": {
          "base_uri": "https://localhost:8080/"
        },
        "id": "dJa8agPSMXNW",
        "outputId": "1526cac9-a274-4011-bfc0-1bfe0687daec"
      },
      "outputs": [
        {
          "output_type": "stream",
          "name": "stdout",
          "text": [
            "\u001b[1m1/1\u001b[0m \u001b[32m━━━━━━━━━━━━━━━━━━━━\u001b[0m\u001b[37m\u001b[0m \u001b[1m1s\u001b[0m 819ms/step\n",
            "Positive (95.3% certainty)\n",
            "Negative (90.2% certainty)\n",
            "Positive (76.3% certainty)\n",
            "Positive (97.6% certainty)\n",
            "Negative (50.9% certainty)\n"
          ]
        }
      ],
      "source": [
        "predictions_vgg16 = vgg16.predict(x, steps=1)\n",
        "def print_prediction(prediction):\n",
        "    if prediction[0] > prediction[1]:\n",
        "        print(\"Negative ({}% certainty)\".format(round(prediction[0] * 100, 1)))\n",
        "    elif prediction[1] > prediction[0]:\n",
        "        print(\"Positive ({}% certainty)\".format(round(prediction[1] * 100, 1)))\n",
        "\n",
        "for i in range(5):\n",
        "    print_prediction(predictions_vgg16[i])"
      ]
    },
    {
      "cell_type": "code",
      "execution_count": null,
      "metadata": {
        "colab": {
          "base_uri": "https://localhost:8080/"
        },
        "id": "97DILOUzMdvD",
        "outputId": "e79d05b1-c59b-4110-daef-ee85f1d7890a"
      },
      "outputs": [
        {
          "output_type": "stream",
          "name": "stdout",
          "text": [
            "\u001b[1m1/1\u001b[0m \u001b[32m━━━━━━━━━━━━━━━━━━━━\u001b[0m\u001b[37m\u001b[0m \u001b[1m4s\u001b[0m 4s/step\n"
          ]
        }
      ],
      "source": [
        "predictions_resnet50 = model.predict(y, steps=1)\n",
        "for i in range(5):\n",
        "    print_prediction(predictions_resnet50[i])"
      ]
    }
  ],
  "metadata": {
    "accelerator": "GPU",
    "colab": {
      "gpuType": "T4",
      "provenance": []
    },
    "kernelspec": {
      "display_name": "Python 3",
      "name": "python3"
    },
    "language_info": {
      "name": "python"
    },
    "widgets": {
      "application/vnd.jupyter.widget-state+json": {
        "d51df436c8284614ab2dce50daa185ac": {
          "model_module": "@jupyter-widgets/controls",
          "model_name": "HBoxModel",
          "model_module_version": "2.0.0",
          "state": {
            "_dom_classes": [],
            "_model_module": "@jupyter-widgets/controls",
            "_model_module_version": "2.0.0",
            "_model_name": "HBoxModel",
            "_view_count": null,
            "_view_module": "@jupyter-widgets/controls",
            "_view_module_version": "2.0.0",
            "_view_name": "HBoxView",
            "box_style": "",
            "children": [
              "IPY_MODEL_2db292907dfc45358add59ca6863b537",
              "IPY_MODEL_c62003949ab64e7ba45b9d157f5d3f6c",
              "IPY_MODEL_6069ec42a24641d29e7c2798c14cf649"
            ],
            "layout": "IPY_MODEL_fbe4fecac32c401dad5b7e565c57a5bb",
            "tabbable": null,
            "tooltip": null
          }
        },
        "2db292907dfc45358add59ca6863b537": {
          "model_module": "@jupyter-widgets/controls",
          "model_name": "HTMLModel",
          "model_module_version": "2.0.0",
          "state": {
            "_dom_classes": [],
            "_model_module": "@jupyter-widgets/controls",
            "_model_module_version": "2.0.0",
            "_model_name": "HTMLModel",
            "_view_count": null,
            "_view_module": "@jupyter-widgets/controls",
            "_view_module_version": "2.0.0",
            "_view_name": "HTMLView",
            "description": "",
            "description_allow_html": false,
            "layout": "IPY_MODEL_9bcd8ba7a9a0434f8df54ec9e9eb1eb0",
            "placeholder": "​",
            "style": "IPY_MODEL_6a33e9c24211461cbf9ad4ad3cd55810",
            "tabbable": null,
            "tooltip": null,
            "value": "Downloading concrete_data_week3.zip: 100%"
          }
        },
        "c62003949ab64e7ba45b9d157f5d3f6c": {
          "model_module": "@jupyter-widgets/controls",
          "model_name": "FloatProgressModel",
          "model_module_version": "2.0.0",
          "state": {
            "_dom_classes": [],
            "_model_module": "@jupyter-widgets/controls",
            "_model_module_version": "2.0.0",
            "_model_name": "FloatProgressModel",
            "_view_count": null,
            "_view_module": "@jupyter-widgets/controls",
            "_view_module_version": "2.0.0",
            "_view_name": "ProgressView",
            "bar_style": "success",
            "description": "",
            "description_allow_html": false,
            "layout": "IPY_MODEL_70914f30154647bf8926d0dfe1a8d177",
            "max": 97863179,
            "min": 0,
            "orientation": "horizontal",
            "style": "IPY_MODEL_4f1649e5f43e41c9bade0fe94bcfd11e",
            "tabbable": null,
            "tooltip": null,
            "value": 97863179
          }
        },
        "6069ec42a24641d29e7c2798c14cf649": {
          "model_module": "@jupyter-widgets/controls",
          "model_name": "HTMLModel",
          "model_module_version": "2.0.0",
          "state": {
            "_dom_classes": [],
            "_model_module": "@jupyter-widgets/controls",
            "_model_module_version": "2.0.0",
            "_model_name": "HTMLModel",
            "_view_count": null,
            "_view_module": "@jupyter-widgets/controls",
            "_view_module_version": "2.0.0",
            "_view_name": "HTMLView",
            "description": "",
            "description_allow_html": false,
            "layout": "IPY_MODEL_7df841d848804fe98ab3fccee1772aeb",
            "placeholder": "​",
            "style": "IPY_MODEL_c3eac3f7cf6347b2a188d5045f47796b",
            "tabbable": null,
            "tooltip": null,
            "value": " 97863179/97863179 [00:09&lt;00:00, 11498434.88it/s]"
          }
        },
        "fbe4fecac32c401dad5b7e565c57a5bb": {
          "model_module": "@jupyter-widgets/base",
          "model_name": "LayoutModel",
          "model_module_version": "2.0.0",
          "state": {
            "_model_module": "@jupyter-widgets/base",
            "_model_module_version": "2.0.0",
            "_model_name": "LayoutModel",
            "_view_count": null,
            "_view_module": "@jupyter-widgets/base",
            "_view_module_version": "2.0.0",
            "_view_name": "LayoutView",
            "align_content": null,
            "align_items": null,
            "align_self": null,
            "border_bottom": null,
            "border_left": null,
            "border_right": null,
            "border_top": null,
            "bottom": null,
            "display": null,
            "flex": null,
            "flex_flow": null,
            "grid_area": null,
            "grid_auto_columns": null,
            "grid_auto_flow": null,
            "grid_auto_rows": null,
            "grid_column": null,
            "grid_gap": null,
            "grid_row": null,
            "grid_template_areas": null,
            "grid_template_columns": null,
            "grid_template_rows": null,
            "height": null,
            "justify_content": null,
            "justify_items": null,
            "left": null,
            "margin": null,
            "max_height": null,
            "max_width": null,
            "min_height": null,
            "min_width": null,
            "object_fit": null,
            "object_position": null,
            "order": null,
            "overflow": null,
            "padding": null,
            "right": null,
            "top": null,
            "visibility": null,
            "width": null
          }
        },
        "9bcd8ba7a9a0434f8df54ec9e9eb1eb0": {
          "model_module": "@jupyter-widgets/base",
          "model_name": "LayoutModel",
          "model_module_version": "2.0.0",
          "state": {
            "_model_module": "@jupyter-widgets/base",
            "_model_module_version": "2.0.0",
            "_model_name": "LayoutModel",
            "_view_count": null,
            "_view_module": "@jupyter-widgets/base",
            "_view_module_version": "2.0.0",
            "_view_name": "LayoutView",
            "align_content": null,
            "align_items": null,
            "align_self": null,
            "border_bottom": null,
            "border_left": null,
            "border_right": null,
            "border_top": null,
            "bottom": null,
            "display": null,
            "flex": null,
            "flex_flow": null,
            "grid_area": null,
            "grid_auto_columns": null,
            "grid_auto_flow": null,
            "grid_auto_rows": null,
            "grid_column": null,
            "grid_gap": null,
            "grid_row": null,
            "grid_template_areas": null,
            "grid_template_columns": null,
            "grid_template_rows": null,
            "height": null,
            "justify_content": null,
            "justify_items": null,
            "left": null,
            "margin": null,
            "max_height": null,
            "max_width": null,
            "min_height": null,
            "min_width": null,
            "object_fit": null,
            "object_position": null,
            "order": null,
            "overflow": null,
            "padding": null,
            "right": null,
            "top": null,
            "visibility": null,
            "width": null
          }
        },
        "6a33e9c24211461cbf9ad4ad3cd55810": {
          "model_module": "@jupyter-widgets/controls",
          "model_name": "HTMLStyleModel",
          "model_module_version": "2.0.0",
          "state": {
            "_model_module": "@jupyter-widgets/controls",
            "_model_module_version": "2.0.0",
            "_model_name": "HTMLStyleModel",
            "_view_count": null,
            "_view_module": "@jupyter-widgets/base",
            "_view_module_version": "2.0.0",
            "_view_name": "StyleView",
            "background": null,
            "description_width": "",
            "font_size": null,
            "text_color": null
          }
        },
        "70914f30154647bf8926d0dfe1a8d177": {
          "model_module": "@jupyter-widgets/base",
          "model_name": "LayoutModel",
          "model_module_version": "2.0.0",
          "state": {
            "_model_module": "@jupyter-widgets/base",
            "_model_module_version": "2.0.0",
            "_model_name": "LayoutModel",
            "_view_count": null,
            "_view_module": "@jupyter-widgets/base",
            "_view_module_version": "2.0.0",
            "_view_name": "LayoutView",
            "align_content": null,
            "align_items": null,
            "align_self": null,
            "border_bottom": null,
            "border_left": null,
            "border_right": null,
            "border_top": null,
            "bottom": null,
            "display": null,
            "flex": null,
            "flex_flow": null,
            "grid_area": null,
            "grid_auto_columns": null,
            "grid_auto_flow": null,
            "grid_auto_rows": null,
            "grid_column": null,
            "grid_gap": null,
            "grid_row": null,
            "grid_template_areas": null,
            "grid_template_columns": null,
            "grid_template_rows": null,
            "height": null,
            "justify_content": null,
            "justify_items": null,
            "left": null,
            "margin": null,
            "max_height": null,
            "max_width": null,
            "min_height": null,
            "min_width": null,
            "object_fit": null,
            "object_position": null,
            "order": null,
            "overflow": null,
            "padding": null,
            "right": null,
            "top": null,
            "visibility": null,
            "width": null
          }
        },
        "4f1649e5f43e41c9bade0fe94bcfd11e": {
          "model_module": "@jupyter-widgets/controls",
          "model_name": "ProgressStyleModel",
          "model_module_version": "2.0.0",
          "state": {
            "_model_module": "@jupyter-widgets/controls",
            "_model_module_version": "2.0.0",
            "_model_name": "ProgressStyleModel",
            "_view_count": null,
            "_view_module": "@jupyter-widgets/base",
            "_view_module_version": "2.0.0",
            "_view_name": "StyleView",
            "bar_color": null,
            "description_width": ""
          }
        },
        "7df841d848804fe98ab3fccee1772aeb": {
          "model_module": "@jupyter-widgets/base",
          "model_name": "LayoutModel",
          "model_module_version": "2.0.0",
          "state": {
            "_model_module": "@jupyter-widgets/base",
            "_model_module_version": "2.0.0",
            "_model_name": "LayoutModel",
            "_view_count": null,
            "_view_module": "@jupyter-widgets/base",
            "_view_module_version": "2.0.0",
            "_view_name": "LayoutView",
            "align_content": null,
            "align_items": null,
            "align_self": null,
            "border_bottom": null,
            "border_left": null,
            "border_right": null,
            "border_top": null,
            "bottom": null,
            "display": null,
            "flex": null,
            "flex_flow": null,
            "grid_area": null,
            "grid_auto_columns": null,
            "grid_auto_flow": null,
            "grid_auto_rows": null,
            "grid_column": null,
            "grid_gap": null,
            "grid_row": null,
            "grid_template_areas": null,
            "grid_template_columns": null,
            "grid_template_rows": null,
            "height": null,
            "justify_content": null,
            "justify_items": null,
            "left": null,
            "margin": null,
            "max_height": null,
            "max_width": null,
            "min_height": null,
            "min_width": null,
            "object_fit": null,
            "object_position": null,
            "order": null,
            "overflow": null,
            "padding": null,
            "right": null,
            "top": null,
            "visibility": null,
            "width": null
          }
        },
        "c3eac3f7cf6347b2a188d5045f47796b": {
          "model_module": "@jupyter-widgets/controls",
          "model_name": "HTMLStyleModel",
          "model_module_version": "2.0.0",
          "state": {
            "_model_module": "@jupyter-widgets/controls",
            "_model_module_version": "2.0.0",
            "_model_name": "HTMLStyleModel",
            "_view_count": null,
            "_view_module": "@jupyter-widgets/base",
            "_view_module_version": "2.0.0",
            "_view_name": "StyleView",
            "background": null,
            "description_width": "",
            "font_size": null,
            "text_color": null
          }
        },
        "42ed032bc6ff4336bfd777f24ee9c384": {
          "model_module": "@jupyter-widgets/base",
          "model_name": "LayoutModel",
          "model_module_version": "2.0.0",
          "state": {
            "_model_module": "@jupyter-widgets/base",
            "_model_module_version": "2.0.0",
            "_model_name": "LayoutModel",
            "_view_count": null,
            "_view_module": "@jupyter-widgets/base",
            "_view_module_version": "2.0.0",
            "_view_name": "LayoutView",
            "align_content": null,
            "align_items": null,
            "align_self": null,
            "border_bottom": null,
            "border_left": null,
            "border_right": null,
            "border_top": null,
            "bottom": null,
            "display": null,
            "flex": null,
            "flex_flow": null,
            "grid_area": null,
            "grid_auto_columns": null,
            "grid_auto_flow": null,
            "grid_auto_rows": null,
            "grid_column": null,
            "grid_gap": null,
            "grid_row": null,
            "grid_template_areas": null,
            "grid_template_columns": null,
            "grid_template_rows": null,
            "height": null,
            "justify_content": null,
            "justify_items": null,
            "left": null,
            "margin": null,
            "max_height": null,
            "max_width": null,
            "min_height": null,
            "min_width": null,
            "object_fit": null,
            "object_position": null,
            "order": null,
            "overflow": null,
            "padding": null,
            "right": null,
            "top": null,
            "visibility": null,
            "width": null
          }
        },
        "579eb73624d9488b9ca6ff7398b742c0": {
          "model_module": "@jupyter-widgets/controls",
          "model_name": "ProgressStyleModel",
          "model_module_version": "2.0.0",
          "state": {
            "_model_module": "@jupyter-widgets/controls",
            "_model_module_version": "2.0.0",
            "_model_name": "ProgressStyleModel",
            "_view_count": null,
            "_view_module": "@jupyter-widgets/base",
            "_view_module_version": "2.0.0",
            "_view_name": "StyleView",
            "bar_color": null,
            "description_width": ""
          }
        },
        "fb813e22278445b284a53a00c2530c7e": {
          "model_module": "@jupyter-widgets/base",
          "model_name": "LayoutModel",
          "model_module_version": "2.0.0",
          "state": {
            "_model_module": "@jupyter-widgets/base",
            "_model_module_version": "2.0.0",
            "_model_name": "LayoutModel",
            "_view_count": null,
            "_view_module": "@jupyter-widgets/base",
            "_view_module_version": "2.0.0",
            "_view_name": "LayoutView",
            "align_content": null,
            "align_items": null,
            "align_self": null,
            "border_bottom": null,
            "border_left": null,
            "border_right": null,
            "border_top": null,
            "bottom": null,
            "display": null,
            "flex": null,
            "flex_flow": null,
            "grid_area": null,
            "grid_auto_columns": null,
            "grid_auto_flow": null,
            "grid_auto_rows": null,
            "grid_column": null,
            "grid_gap": null,
            "grid_row": null,
            "grid_template_areas": null,
            "grid_template_columns": null,
            "grid_template_rows": null,
            "height": null,
            "justify_content": null,
            "justify_items": null,
            "left": null,
            "margin": null,
            "max_height": null,
            "max_width": null,
            "min_height": null,
            "min_width": null,
            "object_fit": null,
            "object_position": null,
            "order": null,
            "overflow": null,
            "padding": null,
            "right": null,
            "top": null,
            "visibility": null,
            "width": null
          }
        },
        "97abec5167f04e789d2eaea3b29fb187": {
          "model_module": "@jupyter-widgets/controls",
          "model_name": "HTMLStyleModel",
          "model_module_version": "2.0.0",
          "state": {
            "_model_module": "@jupyter-widgets/controls",
            "_model_module_version": "2.0.0",
            "_model_name": "HTMLStyleModel",
            "_view_count": null,
            "_view_module": "@jupyter-widgets/base",
            "_view_module_version": "2.0.0",
            "_view_name": "StyleView",
            "background": null,
            "description_width": "",
            "font_size": null,
            "text_color": null
          }
        },
        "005c4fff459a4cbab8164d19dd4d4749": {
          "model_module": "@jupyter-widgets/base",
          "model_name": "LayoutModel",
          "model_module_version": "2.0.0",
          "state": {
            "_model_module": "@jupyter-widgets/base",
            "_model_module_version": "2.0.0",
            "_model_name": "LayoutModel",
            "_view_count": null,
            "_view_module": "@jupyter-widgets/base",
            "_view_module_version": "2.0.0",
            "_view_name": "LayoutView",
            "align_content": null,
            "align_items": null,
            "align_self": null,
            "border_bottom": null,
            "border_left": null,
            "border_right": null,
            "border_top": null,
            "bottom": null,
            "display": null,
            "flex": null,
            "flex_flow": null,
            "grid_area": null,
            "grid_auto_columns": null,
            "grid_auto_flow": null,
            "grid_auto_rows": null,
            "grid_column": null,
            "grid_gap": null,
            "grid_row": null,
            "grid_template_areas": null,
            "grid_template_columns": null,
            "grid_template_rows": null,
            "height": null,
            "justify_content": null,
            "justify_items": null,
            "left": null,
            "margin": null,
            "max_height": null,
            "max_width": null,
            "min_height": null,
            "min_width": null,
            "object_fit": null,
            "object_position": null,
            "order": null,
            "overflow": null,
            "padding": null,
            "right": null,
            "top": null,
            "visibility": null,
            "width": null
          }
        },
        "9d3ee25e062a4fbbb30e86f363ea481e": {
          "model_module": "@jupyter-widgets/controls",
          "model_name": "HTMLStyleModel",
          "model_module_version": "2.0.0",
          "state": {
            "_model_module": "@jupyter-widgets/controls",
            "_model_module_version": "2.0.0",
            "_model_name": "HTMLStyleModel",
            "_view_count": null,
            "_view_module": "@jupyter-widgets/base",
            "_view_module_version": "2.0.0",
            "_view_name": "StyleView",
            "background": null,
            "description_width": "",
            "font_size": null,
            "text_color": null
          }
        },
        "af239f5de4e6486e95fc753827cf1613": {
          "model_module": "@jupyter-widgets/controls",
          "model_name": "HTMLModel",
          "model_module_version": "2.0.0",
          "state": {
            "_dom_classes": [],
            "_model_module": "@jupyter-widgets/controls",
            "_model_module_version": "2.0.0",
            "_model_name": "HTMLModel",
            "_view_count": null,
            "_view_module": "@jupyter-widgets/controls",
            "_view_module_version": "2.0.0",
            "_view_name": "HTMLView",
            "description": "",
            "description_allow_html": false,
            "layout": "IPY_MODEL_fb813e22278445b284a53a00c2530c7e",
            "placeholder": "​",
            "style": "IPY_MODEL_97abec5167f04e789d2eaea3b29fb187",
            "tabbable": null,
            "tooltip": null,
            "value": "Extracting concrete_data_week3.zip: 100%"
          }
        },
        "3fac5b61623c43588e8a9623da4465a8": {
          "model_module": "@jupyter-widgets/controls",
          "model_name": "FloatProgressModel",
          "model_module_version": "2.0.0",
          "state": {
            "_dom_classes": [],
            "_model_module": "@jupyter-widgets/controls",
            "_model_module_version": "2.0.0",
            "_model_name": "FloatProgressModel",
            "_view_count": null,
            "_view_module": "@jupyter-widgets/controls",
            "_view_module_version": "2.0.0",
            "_view_name": "ProgressView",
            "bar_style": "success",
            "description": "",
            "description_allow_html": false,
            "layout": "IPY_MODEL_42ed032bc6ff4336bfd777f24ee9c384",
            "max": 30036,
            "min": 0,
            "orientation": "horizontal",
            "style": "IPY_MODEL_579eb73624d9488b9ca6ff7398b742c0",
            "tabbable": null,
            "tooltip": null,
            "value": 30036
          }
        },
        "25a03165d239407fa9b8969f2aebf935": {
          "model_module": "@jupyter-widgets/controls",
          "model_name": "HTMLModel",
          "model_module_version": "2.0.0",
          "state": {
            "_dom_classes": [],
            "_model_module": "@jupyter-widgets/controls",
            "_model_module_version": "2.0.0",
            "_model_name": "HTMLModel",
            "_view_count": null,
            "_view_module": "@jupyter-widgets/controls",
            "_view_module_version": "2.0.0",
            "_view_name": "HTMLView",
            "description": "",
            "description_allow_html": false,
            "layout": "IPY_MODEL_005c4fff459a4cbab8164d19dd4d4749",
            "placeholder": "​",
            "style": "IPY_MODEL_9d3ee25e062a4fbbb30e86f363ea481e",
            "tabbable": null,
            "tooltip": null,
            "value": " 30036/30036 [00:05&lt;00:00, 7465.14it/s]"
          }
        },
        "945428a7b98c4758bd0cfafae75dd0aa": {
          "model_module": "@jupyter-widgets/base",
          "model_name": "LayoutModel",
          "model_module_version": "2.0.0",
          "state": {
            "_model_module": "@jupyter-widgets/base",
            "_model_module_version": "2.0.0",
            "_model_name": "LayoutModel",
            "_view_count": null,
            "_view_module": "@jupyter-widgets/base",
            "_view_module_version": "2.0.0",
            "_view_name": "LayoutView",
            "align_content": null,
            "align_items": null,
            "align_self": null,
            "border_bottom": null,
            "border_left": null,
            "border_right": null,
            "border_top": null,
            "bottom": null,
            "display": null,
            "flex": null,
            "flex_flow": null,
            "grid_area": null,
            "grid_auto_columns": null,
            "grid_auto_flow": null,
            "grid_auto_rows": null,
            "grid_column": null,
            "grid_gap": null,
            "grid_row": null,
            "grid_template_areas": null,
            "grid_template_columns": null,
            "grid_template_rows": null,
            "height": null,
            "justify_content": null,
            "justify_items": null,
            "left": null,
            "margin": null,
            "max_height": null,
            "max_width": null,
            "min_height": null,
            "min_width": null,
            "object_fit": null,
            "object_position": null,
            "order": null,
            "overflow": null,
            "padding": null,
            "right": null,
            "top": null,
            "visibility": null,
            "width": null
          }
        },
        "845b4963e5ff40019a0d47c27f0ac637": {
          "model_module": "@jupyter-widgets/controls",
          "model_name": "HBoxModel",
          "model_module_version": "2.0.0",
          "state": {
            "_dom_classes": [],
            "_model_module": "@jupyter-widgets/controls",
            "_model_module_version": "2.0.0",
            "_model_name": "HBoxModel",
            "_view_count": null,
            "_view_module": "@jupyter-widgets/controls",
            "_view_module_version": "2.0.0",
            "_view_name": "HBoxView",
            "box_style": "",
            "children": [
              "IPY_MODEL_af239f5de4e6486e95fc753827cf1613",
              "IPY_MODEL_3fac5b61623c43588e8a9623da4465a8",
              "IPY_MODEL_25a03165d239407fa9b8969f2aebf935"
            ],
            "layout": "IPY_MODEL_945428a7b98c4758bd0cfafae75dd0aa",
            "tabbable": null,
            "tooltip": null
          }
        },
        "130739f7f0f9402fb097c424675dad8d": {
          "model_module": "@jupyter-widgets/controls",
          "model_name": "HBoxModel",
          "model_module_version": "2.0.0",
          "state": {
            "_dom_classes": [],
            "_model_module": "@jupyter-widgets/controls",
            "_model_module_version": "2.0.0",
            "_model_name": "HBoxModel",
            "_view_count": null,
            "_view_module": "@jupyter-widgets/controls",
            "_view_module_version": "2.0.0",
            "_view_name": "HBoxView",
            "box_style": "",
            "children": [
              "IPY_MODEL_bc52f0572d184cb0b4f57bc9779cf00f",
              "IPY_MODEL_4006d5079436416099c6ec3e494b739f",
              "IPY_MODEL_3a045dc953254fba9a74f0e46f269c9a"
            ],
            "layout": "IPY_MODEL_992ce3c27c144edb88109860dc3ec8a7",
            "tabbable": null,
            "tooltip": null
          }
        },
        "bc52f0572d184cb0b4f57bc9779cf00f": {
          "model_module": "@jupyter-widgets/controls",
          "model_name": "HTMLModel",
          "model_module_version": "2.0.0",
          "state": {
            "_dom_classes": [],
            "_model_module": "@jupyter-widgets/controls",
            "_model_module_version": "2.0.0",
            "_model_name": "HTMLModel",
            "_view_count": null,
            "_view_module": "@jupyter-widgets/controls",
            "_view_module_version": "2.0.0",
            "_view_name": "HTMLView",
            "description": "",
            "description_allow_html": false,
            "layout": "IPY_MODEL_0f0fc5cfadbd4d01b257d35f707b3169",
            "placeholder": "​",
            "style": "IPY_MODEL_20c76972f1f949b793cdad2ed3d44a0a",
            "tabbable": null,
            "tooltip": null,
            "value": "Downloading concrete_data_week4.zip: 100%"
          }
        },
        "4006d5079436416099c6ec3e494b739f": {
          "model_module": "@jupyter-widgets/controls",
          "model_name": "FloatProgressModel",
          "model_module_version": "2.0.0",
          "state": {
            "_dom_classes": [],
            "_model_module": "@jupyter-widgets/controls",
            "_model_module_version": "2.0.0",
            "_model_name": "FloatProgressModel",
            "_view_count": null,
            "_view_module": "@jupyter-widgets/controls",
            "_view_module_version": "2.0.0",
            "_view_name": "ProgressView",
            "bar_style": "success",
            "description": "",
            "description_allow_html": false,
            "layout": "IPY_MODEL_8d48edaa2d554fa5be26967dbb9904ec",
            "max": 261483817,
            "min": 0,
            "orientation": "horizontal",
            "style": "IPY_MODEL_b3a6f55fc284481a84bc20d993aec882",
            "tabbable": null,
            "tooltip": null,
            "value": 261483817
          }
        },
        "3a045dc953254fba9a74f0e46f269c9a": {
          "model_module": "@jupyter-widgets/controls",
          "model_name": "HTMLModel",
          "model_module_version": "2.0.0",
          "state": {
            "_dom_classes": [],
            "_model_module": "@jupyter-widgets/controls",
            "_model_module_version": "2.0.0",
            "_model_name": "HTMLModel",
            "_view_count": null,
            "_view_module": "@jupyter-widgets/controls",
            "_view_module_version": "2.0.0",
            "_view_name": "HTMLView",
            "description": "",
            "description_allow_html": false,
            "layout": "IPY_MODEL_3a6446b00ab24f19a39ca32da331e6ef",
            "placeholder": "​",
            "style": "IPY_MODEL_05a9fce1292e418b9cfa726f3e9ecfe0",
            "tabbable": null,
            "tooltip": null,
            "value": " 261483817/261483817 [00:15&lt;00:00, 17806995.00it/s]"
          }
        },
        "992ce3c27c144edb88109860dc3ec8a7": {
          "model_module": "@jupyter-widgets/base",
          "model_name": "LayoutModel",
          "model_module_version": "2.0.0",
          "state": {
            "_model_module": "@jupyter-widgets/base",
            "_model_module_version": "2.0.0",
            "_model_name": "LayoutModel",
            "_view_count": null,
            "_view_module": "@jupyter-widgets/base",
            "_view_module_version": "2.0.0",
            "_view_name": "LayoutView",
            "align_content": null,
            "align_items": null,
            "align_self": null,
            "border_bottom": null,
            "border_left": null,
            "border_right": null,
            "border_top": null,
            "bottom": null,
            "display": null,
            "flex": null,
            "flex_flow": null,
            "grid_area": null,
            "grid_auto_columns": null,
            "grid_auto_flow": null,
            "grid_auto_rows": null,
            "grid_column": null,
            "grid_gap": null,
            "grid_row": null,
            "grid_template_areas": null,
            "grid_template_columns": null,
            "grid_template_rows": null,
            "height": null,
            "justify_content": null,
            "justify_items": null,
            "left": null,
            "margin": null,
            "max_height": null,
            "max_width": null,
            "min_height": null,
            "min_width": null,
            "object_fit": null,
            "object_position": null,
            "order": null,
            "overflow": null,
            "padding": null,
            "right": null,
            "top": null,
            "visibility": null,
            "width": null
          }
        },
        "0f0fc5cfadbd4d01b257d35f707b3169": {
          "model_module": "@jupyter-widgets/base",
          "model_name": "LayoutModel",
          "model_module_version": "2.0.0",
          "state": {
            "_model_module": "@jupyter-widgets/base",
            "_model_module_version": "2.0.0",
            "_model_name": "LayoutModel",
            "_view_count": null,
            "_view_module": "@jupyter-widgets/base",
            "_view_module_version": "2.0.0",
            "_view_name": "LayoutView",
            "align_content": null,
            "align_items": null,
            "align_self": null,
            "border_bottom": null,
            "border_left": null,
            "border_right": null,
            "border_top": null,
            "bottom": null,
            "display": null,
            "flex": null,
            "flex_flow": null,
            "grid_area": null,
            "grid_auto_columns": null,
            "grid_auto_flow": null,
            "grid_auto_rows": null,
            "grid_column": null,
            "grid_gap": null,
            "grid_row": null,
            "grid_template_areas": null,
            "grid_template_columns": null,
            "grid_template_rows": null,
            "height": null,
            "justify_content": null,
            "justify_items": null,
            "left": null,
            "margin": null,
            "max_height": null,
            "max_width": null,
            "min_height": null,
            "min_width": null,
            "object_fit": null,
            "object_position": null,
            "order": null,
            "overflow": null,
            "padding": null,
            "right": null,
            "top": null,
            "visibility": null,
            "width": null
          }
        },
        "20c76972f1f949b793cdad2ed3d44a0a": {
          "model_module": "@jupyter-widgets/controls",
          "model_name": "HTMLStyleModel",
          "model_module_version": "2.0.0",
          "state": {
            "_model_module": "@jupyter-widgets/controls",
            "_model_module_version": "2.0.0",
            "_model_name": "HTMLStyleModel",
            "_view_count": null,
            "_view_module": "@jupyter-widgets/base",
            "_view_module_version": "2.0.0",
            "_view_name": "StyleView",
            "background": null,
            "description_width": "",
            "font_size": null,
            "text_color": null
          }
        },
        "8d48edaa2d554fa5be26967dbb9904ec": {
          "model_module": "@jupyter-widgets/base",
          "model_name": "LayoutModel",
          "model_module_version": "2.0.0",
          "state": {
            "_model_module": "@jupyter-widgets/base",
            "_model_module_version": "2.0.0",
            "_model_name": "LayoutModel",
            "_view_count": null,
            "_view_module": "@jupyter-widgets/base",
            "_view_module_version": "2.0.0",
            "_view_name": "LayoutView",
            "align_content": null,
            "align_items": null,
            "align_self": null,
            "border_bottom": null,
            "border_left": null,
            "border_right": null,
            "border_top": null,
            "bottom": null,
            "display": null,
            "flex": null,
            "flex_flow": null,
            "grid_area": null,
            "grid_auto_columns": null,
            "grid_auto_flow": null,
            "grid_auto_rows": null,
            "grid_column": null,
            "grid_gap": null,
            "grid_row": null,
            "grid_template_areas": null,
            "grid_template_columns": null,
            "grid_template_rows": null,
            "height": null,
            "justify_content": null,
            "justify_items": null,
            "left": null,
            "margin": null,
            "max_height": null,
            "max_width": null,
            "min_height": null,
            "min_width": null,
            "object_fit": null,
            "object_position": null,
            "order": null,
            "overflow": null,
            "padding": null,
            "right": null,
            "top": null,
            "visibility": null,
            "width": null
          }
        },
        "b3a6f55fc284481a84bc20d993aec882": {
          "model_module": "@jupyter-widgets/controls",
          "model_name": "ProgressStyleModel",
          "model_module_version": "2.0.0",
          "state": {
            "_model_module": "@jupyter-widgets/controls",
            "_model_module_version": "2.0.0",
            "_model_name": "ProgressStyleModel",
            "_view_count": null,
            "_view_module": "@jupyter-widgets/base",
            "_view_module_version": "2.0.0",
            "_view_name": "StyleView",
            "bar_color": null,
            "description_width": ""
          }
        },
        "3a6446b00ab24f19a39ca32da331e6ef": {
          "model_module": "@jupyter-widgets/base",
          "model_name": "LayoutModel",
          "model_module_version": "2.0.0",
          "state": {
            "_model_module": "@jupyter-widgets/base",
            "_model_module_version": "2.0.0",
            "_model_name": "LayoutModel",
            "_view_count": null,
            "_view_module": "@jupyter-widgets/base",
            "_view_module_version": "2.0.0",
            "_view_name": "LayoutView",
            "align_content": null,
            "align_items": null,
            "align_self": null,
            "border_bottom": null,
            "border_left": null,
            "border_right": null,
            "border_top": null,
            "bottom": null,
            "display": null,
            "flex": null,
            "flex_flow": null,
            "grid_area": null,
            "grid_auto_columns": null,
            "grid_auto_flow": null,
            "grid_auto_rows": null,
            "grid_column": null,
            "grid_gap": null,
            "grid_row": null,
            "grid_template_areas": null,
            "grid_template_columns": null,
            "grid_template_rows": null,
            "height": null,
            "justify_content": null,
            "justify_items": null,
            "left": null,
            "margin": null,
            "max_height": null,
            "max_width": null,
            "min_height": null,
            "min_width": null,
            "object_fit": null,
            "object_position": null,
            "order": null,
            "overflow": null,
            "padding": null,
            "right": null,
            "top": null,
            "visibility": null,
            "width": null
          }
        },
        "05a9fce1292e418b9cfa726f3e9ecfe0": {
          "model_module": "@jupyter-widgets/controls",
          "model_name": "HTMLStyleModel",
          "model_module_version": "2.0.0",
          "state": {
            "_model_module": "@jupyter-widgets/controls",
            "_model_module_version": "2.0.0",
            "_model_name": "HTMLStyleModel",
            "_view_count": null,
            "_view_module": "@jupyter-widgets/base",
            "_view_module_version": "2.0.0",
            "_view_name": "StyleView",
            "background": null,
            "description_width": "",
            "font_size": null,
            "text_color": null
          }
        },
        "70add694681145ec9503fdace928e844": {
          "model_module": "@jupyter-widgets/base",
          "model_name": "LayoutModel",
          "model_module_version": "2.0.0",
          "state": {
            "_model_module": "@jupyter-widgets/base",
            "_model_module_version": "2.0.0",
            "_model_name": "LayoutModel",
            "_view_count": null,
            "_view_module": "@jupyter-widgets/base",
            "_view_module_version": "2.0.0",
            "_view_name": "LayoutView",
            "align_content": null,
            "align_items": null,
            "align_self": null,
            "border_bottom": null,
            "border_left": null,
            "border_right": null,
            "border_top": null,
            "bottom": null,
            "display": null,
            "flex": null,
            "flex_flow": null,
            "grid_area": null,
            "grid_auto_columns": null,
            "grid_auto_flow": null,
            "grid_auto_rows": null,
            "grid_column": null,
            "grid_gap": null,
            "grid_row": null,
            "grid_template_areas": null,
            "grid_template_columns": null,
            "grid_template_rows": null,
            "height": null,
            "justify_content": null,
            "justify_items": null,
            "left": null,
            "margin": null,
            "max_height": null,
            "max_width": null,
            "min_height": null,
            "min_width": null,
            "object_fit": null,
            "object_position": null,
            "order": null,
            "overflow": null,
            "padding": null,
            "right": null,
            "top": null,
            "visibility": null,
            "width": null
          }
        },
        "8810902366cc49f68c5013c111cfa511": {
          "model_module": "@jupyter-widgets/controls",
          "model_name": "ProgressStyleModel",
          "model_module_version": "2.0.0",
          "state": {
            "_model_module": "@jupyter-widgets/controls",
            "_model_module_version": "2.0.0",
            "_model_name": "ProgressStyleModel",
            "_view_count": null,
            "_view_module": "@jupyter-widgets/base",
            "_view_module_version": "2.0.0",
            "_view_name": "StyleView",
            "bar_color": null,
            "description_width": ""
          }
        },
        "b2db47c66d634f78a6a91438ae8f2da3": {
          "model_module": "@jupyter-widgets/base",
          "model_name": "LayoutModel",
          "model_module_version": "2.0.0",
          "state": {
            "_model_module": "@jupyter-widgets/base",
            "_model_module_version": "2.0.0",
            "_model_name": "LayoutModel",
            "_view_count": null,
            "_view_module": "@jupyter-widgets/base",
            "_view_module_version": "2.0.0",
            "_view_name": "LayoutView",
            "align_content": null,
            "align_items": null,
            "align_self": null,
            "border_bottom": null,
            "border_left": null,
            "border_right": null,
            "border_top": null,
            "bottom": null,
            "display": null,
            "flex": null,
            "flex_flow": null,
            "grid_area": null,
            "grid_auto_columns": null,
            "grid_auto_flow": null,
            "grid_auto_rows": null,
            "grid_column": null,
            "grid_gap": null,
            "grid_row": null,
            "grid_template_areas": null,
            "grid_template_columns": null,
            "grid_template_rows": null,
            "height": null,
            "justify_content": null,
            "justify_items": null,
            "left": null,
            "margin": null,
            "max_height": null,
            "max_width": null,
            "min_height": null,
            "min_width": null,
            "object_fit": null,
            "object_position": null,
            "order": null,
            "overflow": null,
            "padding": null,
            "right": null,
            "top": null,
            "visibility": null,
            "width": null
          }
        },
        "52ce2a7fee02403c91b969067b3dbf9d": {
          "model_module": "@jupyter-widgets/controls",
          "model_name": "HTMLStyleModel",
          "model_module_version": "2.0.0",
          "state": {
            "_model_module": "@jupyter-widgets/controls",
            "_model_module_version": "2.0.0",
            "_model_name": "HTMLStyleModel",
            "_view_count": null,
            "_view_module": "@jupyter-widgets/base",
            "_view_module_version": "2.0.0",
            "_view_name": "StyleView",
            "background": null,
            "description_width": "",
            "font_size": null,
            "text_color": null
          }
        },
        "80b5e8937eff473f891dfc6987bb6938": {
          "model_module": "@jupyter-widgets/base",
          "model_name": "LayoutModel",
          "model_module_version": "2.0.0",
          "state": {
            "_model_module": "@jupyter-widgets/base",
            "_model_module_version": "2.0.0",
            "_model_name": "LayoutModel",
            "_view_count": null,
            "_view_module": "@jupyter-widgets/base",
            "_view_module_version": "2.0.0",
            "_view_name": "LayoutView",
            "align_content": null,
            "align_items": null,
            "align_self": null,
            "border_bottom": null,
            "border_left": null,
            "border_right": null,
            "border_top": null,
            "bottom": null,
            "display": null,
            "flex": null,
            "flex_flow": null,
            "grid_area": null,
            "grid_auto_columns": null,
            "grid_auto_flow": null,
            "grid_auto_rows": null,
            "grid_column": null,
            "grid_gap": null,
            "grid_row": null,
            "grid_template_areas": null,
            "grid_template_columns": null,
            "grid_template_rows": null,
            "height": null,
            "justify_content": null,
            "justify_items": null,
            "left": null,
            "margin": null,
            "max_height": null,
            "max_width": null,
            "min_height": null,
            "min_width": null,
            "object_fit": null,
            "object_position": null,
            "order": null,
            "overflow": null,
            "padding": null,
            "right": null,
            "top": null,
            "visibility": null,
            "width": null
          }
        },
        "34907ea3ca7749bcb087c39c90d0ee56": {
          "model_module": "@jupyter-widgets/controls",
          "model_name": "HTMLStyleModel",
          "model_module_version": "2.0.0",
          "state": {
            "_model_module": "@jupyter-widgets/controls",
            "_model_module_version": "2.0.0",
            "_model_name": "HTMLStyleModel",
            "_view_count": null,
            "_view_module": "@jupyter-widgets/base",
            "_view_module_version": "2.0.0",
            "_view_name": "StyleView",
            "background": null,
            "description_width": "",
            "font_size": null,
            "text_color": null
          }
        },
        "516eb74e8d0945e6a18002622110e1d0": {
          "model_module": "@jupyter-widgets/controls",
          "model_name": "HTMLModel",
          "model_module_version": "2.0.0",
          "state": {
            "_dom_classes": [],
            "_model_module": "@jupyter-widgets/controls",
            "_model_module_version": "2.0.0",
            "_model_name": "HTMLModel",
            "_view_count": null,
            "_view_module": "@jupyter-widgets/controls",
            "_view_module_version": "2.0.0",
            "_view_name": "HTMLView",
            "description": "",
            "description_allow_html": false,
            "layout": "IPY_MODEL_b2db47c66d634f78a6a91438ae8f2da3",
            "placeholder": "​",
            "style": "IPY_MODEL_52ce2a7fee02403c91b969067b3dbf9d",
            "tabbable": null,
            "tooltip": null,
            "value": "Extracting concrete_data_week4.zip: 100%"
          }
        },
        "5e163c302971464fabcd1efb003e6eda": {
          "model_module": "@jupyter-widgets/controls",
          "model_name": "FloatProgressModel",
          "model_module_version": "2.0.0",
          "state": {
            "_dom_classes": [],
            "_model_module": "@jupyter-widgets/controls",
            "_model_module_version": "2.0.0",
            "_model_name": "FloatProgressModel",
            "_view_count": null,
            "_view_module": "@jupyter-widgets/controls",
            "_view_module_version": "2.0.0",
            "_view_name": "ProgressView",
            "bar_style": "success",
            "description": "",
            "description_allow_html": false,
            "layout": "IPY_MODEL_70add694681145ec9503fdace928e844",
            "max": 80045,
            "min": 0,
            "orientation": "horizontal",
            "style": "IPY_MODEL_8810902366cc49f68c5013c111cfa511",
            "tabbable": null,
            "tooltip": null,
            "value": 80045
          }
        },
        "f8d26a5cb3e146b38af34d2c8045152c": {
          "model_module": "@jupyter-widgets/controls",
          "model_name": "HTMLModel",
          "model_module_version": "2.0.0",
          "state": {
            "_dom_classes": [],
            "_model_module": "@jupyter-widgets/controls",
            "_model_module_version": "2.0.0",
            "_model_name": "HTMLModel",
            "_view_count": null,
            "_view_module": "@jupyter-widgets/controls",
            "_view_module_version": "2.0.0",
            "_view_name": "HTMLView",
            "description": "",
            "description_allow_html": false,
            "layout": "IPY_MODEL_80b5e8937eff473f891dfc6987bb6938",
            "placeholder": "​",
            "style": "IPY_MODEL_34907ea3ca7749bcb087c39c90d0ee56",
            "tabbable": null,
            "tooltip": null,
            "value": " 80045/80045 [00:14&lt;00:00, 6262.91it/s]"
          }
        },
        "ca3d9b36502446b6ad384ef8d40eb70f": {
          "model_module": "@jupyter-widgets/base",
          "model_name": "LayoutModel",
          "model_module_version": "2.0.0",
          "state": {
            "_model_module": "@jupyter-widgets/base",
            "_model_module_version": "2.0.0",
            "_model_name": "LayoutModel",
            "_view_count": null,
            "_view_module": "@jupyter-widgets/base",
            "_view_module_version": "2.0.0",
            "_view_name": "LayoutView",
            "align_content": null,
            "align_items": null,
            "align_self": null,
            "border_bottom": null,
            "border_left": null,
            "border_right": null,
            "border_top": null,
            "bottom": null,
            "display": null,
            "flex": null,
            "flex_flow": null,
            "grid_area": null,
            "grid_auto_columns": null,
            "grid_auto_flow": null,
            "grid_auto_rows": null,
            "grid_column": null,
            "grid_gap": null,
            "grid_row": null,
            "grid_template_areas": null,
            "grid_template_columns": null,
            "grid_template_rows": null,
            "height": null,
            "justify_content": null,
            "justify_items": null,
            "left": null,
            "margin": null,
            "max_height": null,
            "max_width": null,
            "min_height": null,
            "min_width": null,
            "object_fit": null,
            "object_position": null,
            "order": null,
            "overflow": null,
            "padding": null,
            "right": null,
            "top": null,
            "visibility": null,
            "width": null
          }
        },
        "13bea6beb40541e69f8085f523e010cd": {
          "model_module": "@jupyter-widgets/controls",
          "model_name": "HBoxModel",
          "model_module_version": "2.0.0",
          "state": {
            "_dom_classes": [],
            "_model_module": "@jupyter-widgets/controls",
            "_model_module_version": "2.0.0",
            "_model_name": "HBoxModel",
            "_view_count": null,
            "_view_module": "@jupyter-widgets/controls",
            "_view_module_version": "2.0.0",
            "_view_name": "HBoxView",
            "box_style": "",
            "children": [
              "IPY_MODEL_516eb74e8d0945e6a18002622110e1d0",
              "IPY_MODEL_5e163c302971464fabcd1efb003e6eda",
              "IPY_MODEL_f8d26a5cb3e146b38af34d2c8045152c"
            ],
            "layout": "IPY_MODEL_ca3d9b36502446b6ad384ef8d40eb70f",
            "tabbable": null,
            "tooltip": null
          }
        }
      }
    }
  },
  "nbformat": 4,
  "nbformat_minor": 0
}