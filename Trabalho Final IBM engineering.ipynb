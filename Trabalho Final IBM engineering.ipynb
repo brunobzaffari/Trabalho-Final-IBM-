{
  "cells": [
    {
      "cell_type": "code",
      "execution_count": null,
      "metadata": {
        "colab": {
          "base_uri": "https://localhost:8080/"
        },
        "id": "FjK5zNmsLIXl",
        "outputId": "c10eb091-01ec-435c-857b-aa24648df65f"
      },
      "outputs": [
        {
          "output_type": "stream",
          "name": "stdout",
          "text": [
            "Requirement already satisfied: skillsnetwork in /usr/local/lib/python3.10/dist-packages (0.21.9)\n",
            "Requirement already satisfied: ipython in /usr/local/lib/python3.10/dist-packages (from skillsnetwork) (7.34.0)\n",
            "Requirement already satisfied: ipywidgets<9,>=8 in /usr/local/lib/python3.10/dist-packages (from skillsnetwork) (8.1.3)\n",
            "Requirement already satisfied: requests<3,>=2 in /usr/local/lib/python3.10/dist-packages (from skillsnetwork) (2.31.0)\n",
            "Requirement already satisfied: tqdm<5,>=4 in /usr/local/lib/python3.10/dist-packages (from skillsnetwork) (4.66.4)\n",
            "Requirement already satisfied: comm>=0.1.3 in /usr/local/lib/python3.10/dist-packages (from ipywidgets<9,>=8->skillsnetwork) (0.2.2)\n",
            "Requirement already satisfied: traitlets>=4.3.1 in /usr/local/lib/python3.10/dist-packages (from ipywidgets<9,>=8->skillsnetwork) (5.7.1)\n",
            "Requirement already satisfied: widgetsnbextension~=4.0.11 in /usr/local/lib/python3.10/dist-packages (from ipywidgets<9,>=8->skillsnetwork) (4.0.11)\n",
            "Requirement already satisfied: jupyterlab-widgets~=3.0.11 in /usr/local/lib/python3.10/dist-packages (from ipywidgets<9,>=8->skillsnetwork) (3.0.11)\n",
            "Requirement already satisfied: setuptools>=18.5 in /usr/local/lib/python3.10/dist-packages (from ipython->skillsnetwork) (67.7.2)\n",
            "Requirement already satisfied: jedi>=0.16 in /usr/local/lib/python3.10/dist-packages (from ipython->skillsnetwork) (0.19.1)\n",
            "Requirement already satisfied: decorator in /usr/local/lib/python3.10/dist-packages (from ipython->skillsnetwork) (4.4.2)\n",
            "Requirement already satisfied: pickleshare in /usr/local/lib/python3.10/dist-packages (from ipython->skillsnetwork) (0.7.5)\n",
            "Requirement already satisfied: prompt-toolkit!=3.0.0,!=3.0.1,<3.1.0,>=2.0.0 in /usr/local/lib/python3.10/dist-packages (from ipython->skillsnetwork) (3.0.47)\n",
            "Requirement already satisfied: pygments in /usr/local/lib/python3.10/dist-packages (from ipython->skillsnetwork) (2.16.1)\n",
            "Requirement already satisfied: backcall in /usr/local/lib/python3.10/dist-packages (from ipython->skillsnetwork) (0.2.0)\n",
            "Requirement already satisfied: matplotlib-inline in /usr/local/lib/python3.10/dist-packages (from ipython->skillsnetwork) (0.1.7)\n",
            "Requirement already satisfied: pexpect>4.3 in /usr/local/lib/python3.10/dist-packages (from ipython->skillsnetwork) (4.9.0)\n",
            "Requirement already satisfied: charset-normalizer<4,>=2 in /usr/local/lib/python3.10/dist-packages (from requests<3,>=2->skillsnetwork) (3.3.2)\n",
            "Requirement already satisfied: idna<4,>=2.5 in /usr/local/lib/python3.10/dist-packages (from requests<3,>=2->skillsnetwork) (3.7)\n",
            "Requirement already satisfied: urllib3<3,>=1.21.1 in /usr/local/lib/python3.10/dist-packages (from requests<3,>=2->skillsnetwork) (2.0.7)\n",
            "Requirement already satisfied: certifi>=2017.4.17 in /usr/local/lib/python3.10/dist-packages (from requests<3,>=2->skillsnetwork) (2024.7.4)\n",
            "Requirement already satisfied: parso<0.9.0,>=0.8.3 in /usr/local/lib/python3.10/dist-packages (from jedi>=0.16->ipython->skillsnetwork) (0.8.4)\n",
            "Requirement already satisfied: ptyprocess>=0.5 in /usr/local/lib/python3.10/dist-packages (from pexpect>4.3->ipython->skillsnetwork) (0.7.0)\n",
            "Requirement already satisfied: wcwidth in /usr/local/lib/python3.10/dist-packages (from prompt-toolkit!=3.0.0,!=3.0.1,<3.1.0,>=2.0.0->ipython->skillsnetwork) (0.2.13)\n"
          ]
        }
      ],
      "source": [
        "!pip install skillsnetwork\n",
        "import skillsnetwork"
      ]
    },
    {
      "cell_type": "code",
      "execution_count": null,
      "metadata": {
        "id": "fHa1_e8XLdfS"
      },
      "outputs": [],
      "source": [
        "import keras\n",
        "from keras.models import Sequential\n",
        "from keras.layers import Dense\n",
        "from keras.preprocessing.image import ImageDataGenerator\n",
        "from keras.models import load_model"
      ]
    },
    {
      "cell_type": "code",
      "execution_count": null,
      "metadata": {
        "id": "Ai6YUXhbLdWd"
      },
      "outputs": [],
      "source": [
        "from keras.applications import ResNet50\n",
        "from keras.applications.resnet50 import preprocess_input"
      ]
    },
    {
      "cell_type": "code",
      "execution_count": null,
      "metadata": {
        "id": "2NVE-9_JMAtV"
      },
      "outputs": [],
      "source": [
        "from keras.applications import VGG16\n",
        "from keras.applications.vgg16 import preprocess_input"
      ]
    },
    {
      "cell_type": "code",
      "execution_count": null,
      "metadata": {
        "colab": {
          "base_uri": "https://localhost:8080/",
          "height": 34,
          "referenced_widgets": [
            "9ade130a452f4218b449b1577a8bd412",
            "7257857ed6194feca639c289093e0773",
            "8366edcb670d4ca780eaec661efc5b68",
            "5856bdfb5fd246db807559115898b830",
            "e6ea5a6908494be69464c9a0c649529c",
            "462122bcde8d454ca5e5f9ae4427c0d1",
            "8ec91e25e0194486bc50a689dafa5137",
            "f56cd686e6b94ea0b3800ab37a2adb73",
            "18a62fffa004485cb73471e27ebe1418",
            "e6639ae29441406db0b27a7050b8dd5e",
            "b7f9d0bf2b0745148f9861cb9c8ab9bb",
            "291aad263e8940e1a1a675ed7534af2e",
            "564a0a4162b0411788ab9f75f40d6cd6",
            "923ba50cb1d841ae9f1be001a9f8a2fb",
            "d6258f31f320488aba4def176f13cb3b",
            "e5a72f85eb9f4a3f823fb179143e361c",
            "d4d7d7895f8f40d1b29022d7ebc59af2",
            "dfe41b2f9ec34c0499fa0b038137f64c",
            "622cf5d86bb444afa4bd87dbe7fb8082",
            "576e7a96dd494511ac0169e397e2719a",
            "f8448f1bbf234032ac16a8b4cbb3d1c8",
            "6e85840919404b20911ae4d507c3a235"
          ]
        },
        "id": "in4NDnEcLdMw",
        "outputId": "0934e2f7-4c44-4589-cd76-1450b7e0d173"
      },
      "outputs": [
        {
          "output_type": "display_data",
          "data": {
            "text/plain": [
              "Downloading concrete_data_week3.zip:   0%|          | 0/97863179 [00:00<?, ?it/s]"
            ],
            "application/vnd.jupyter.widget-view+json": {
              "version_major": 2,
              "version_minor": 0,
              "model_id": "9ade130a452f4218b449b1577a8bd412"
            }
          },
          "metadata": {}
        },
        {
          "output_type": "display_data",
          "data": {
            "text/plain": [
              "  0%|          | 0/30036 [00:00<?, ?it/s]"
            ],
            "application/vnd.jupyter.widget-view+json": {
              "version_major": 2,
              "version_minor": 0,
              "model_id": "291aad263e8940e1a1a675ed7534af2e"
            }
          },
          "metadata": {}
        },
        {
          "output_type": "stream",
          "name": "stdout",
          "text": [
            "Saved to '.'\n"
          ]
        }
      ],
      "source": [
        "# get the data\n",
        "await skillsnetwork.prepare(\"https://cf-courses-data.s3.us.cloud-object-storage.appdomain.cloud/IBMDeveloperSkillsNetwork-DL0321EN-SkillsNetwork/concrete_data_week3.zip\", overwrite=True)"
      ]
    },
    {
      "cell_type": "code",
      "execution_count": null,
      "metadata": {
        "id": "_vED5TDHLdB4"
      },
      "outputs": [],
      "source": [
        "num_classes = 2\n",
        "\n",
        "image_resize = 224\n",
        "\n",
        "batch_size_training = 100\n",
        "batch_size_validation = 100"
      ]
    },
    {
      "cell_type": "code",
      "execution_count": null,
      "metadata": {
        "colab": {
          "base_uri": "https://localhost:8080/"
        },
        "id": "XIZiYxczLc4D",
        "outputId": "9e83dc6e-671b-437b-c224-72dbf1bcf7c2"
      },
      "outputs": [
        {
          "output_type": "stream",
          "name": "stdout",
          "text": [
            "Found 10001 images belonging to 2 classes.\n",
            "Found 5001 images belonging to 2 classes.\n"
          ]
        }
      ],
      "source": [
        "data_generator = ImageDataGenerator(\n",
        "    preprocessing_function=preprocess_input,\n",
        ")\n",
        "train_generator = data_generator.flow_from_directory(\n",
        "    'concrete_data_week3/train',\n",
        "    target_size=(image_resize, image_resize),\n",
        "    batch_size=batch_size_training,\n",
        "    class_mode='categorical')\n",
        "## Type your answer here\n",
        "validation_generator = data_generator.flow_from_directory(\n",
        "    'concrete_data_week3/valid',\n",
        "    target_size=(image_resize, image_resize),\n",
        "    batch_size=batch_size_validation,\n",
        "    class_mode='categorical'\n",
        ")"
      ]
    },
    {
      "cell_type": "code",
      "execution_count": null,
      "metadata": {
        "id": "x0yYohRGLcuL"
      },
      "outputs": [],
      "source": [
        "model = Sequential()"
      ]
    },
    {
      "cell_type": "code",
      "execution_count": null,
      "metadata": {
        "id": "xeSd-4WGLcV0"
      },
      "outputs": [],
      "source": [
        "model.add(ResNet50(\n",
        "    include_top=False,\n",
        "    pooling='avg',\n",
        "    weights='imagenet',\n",
        "    ))"
      ]
    },
    {
      "cell_type": "code",
      "execution_count": null,
      "metadata": {
        "id": "r1zSvgwPLcKY"
      },
      "outputs": [],
      "source": [
        "model.add(Dense(num_classes, activation='softmax'))"
      ]
    },
    {
      "cell_type": "code",
      "execution_count": null,
      "metadata": {
        "colab": {
          "base_uri": "https://localhost:8080/"
        },
        "id": "wbcskppSLcCd",
        "outputId": "1f9708e8-7457-43e1-da9d-58e3ca9e4868"
      },
      "outputs": [
        {
          "output_type": "execute_result",
          "data": {
            "text/plain": [
              "[<keras.src.engine.functional.Functional at 0x78be009a7430>,\n",
              " <keras.src.layers.core.dense.Dense at 0x78be01b8ee00>]"
            ]
          },
          "metadata": {},
          "execution_count": 13
        }
      ],
      "source": [
        "model.layers"
      ]
    },
    {
      "cell_type": "code",
      "execution_count": null,
      "metadata": {
        "colab": {
          "base_uri": "https://localhost:8080/"
        },
        "id": "mICrPZGgLb4k",
        "outputId": "58466bbe-b19f-41ec-8be1-56fc36592812"
      },
      "outputs": [
        {
          "output_type": "execute_result",
          "data": {
            "text/plain": [
              "[<keras.src.engine.input_layer.InputLayer at 0x78be28708fa0>,\n",
              " <keras.src.layers.reshaping.zero_padding2d.ZeroPadding2D at 0x78be28709450>,\n",
              " <keras.src.layers.convolutional.conv2d.Conv2D at 0x78be287098d0>,\n",
              " <keras.src.layers.normalization.batch_normalization.BatchNormalization at 0x78be2870a5c0>,\n",
              " <keras.src.layers.core.activation.Activation at 0x78be2870b1f0>,\n",
              " <keras.src.layers.reshaping.zero_padding2d.ZeroPadding2D at 0x78be2870b8e0>,\n",
              " <keras.src.layers.pooling.max_pooling2d.MaxPooling2D at 0x78be0285c880>,\n",
              " <keras.src.layers.convolutional.conv2d.Conv2D at 0x78be0285cbe0>,\n",
              " <keras.src.layers.normalization.batch_normalization.BatchNormalization at 0x78be0285d1e0>,\n",
              " <keras.src.layers.core.activation.Activation at 0x78be0285d540>,\n",
              " <keras.src.layers.convolutional.conv2d.Conv2D at 0x78be0285f2b0>,\n",
              " <keras.src.layers.normalization.batch_normalization.BatchNormalization at 0x78be0285efe0>,\n",
              " <keras.src.layers.core.activation.Activation at 0x78be0285efb0>,\n",
              " <keras.src.layers.convolutional.conv2d.Conv2D at 0x78be2870a9e0>,\n",
              " <keras.src.layers.convolutional.conv2d.Conv2D at 0x78be02869b40>,\n",
              " <keras.src.layers.normalization.batch_normalization.BatchNormalization at 0x78be2870aa10>,\n",
              " <keras.src.layers.normalization.batch_normalization.BatchNormalization at 0x78be0286a2f0>,\n",
              " <keras.src.layers.merging.add.Add at 0x78be02869510>,\n",
              " <keras.src.layers.core.activation.Activation at 0x78be0286a6e0>,\n",
              " <keras.src.layers.convolutional.conv2d.Conv2D at 0x78be008d46a0>,\n",
              " <keras.src.layers.normalization.batch_normalization.BatchNormalization at 0x78be008d5c60>,\n",
              " <keras.src.layers.core.activation.Activation at 0x78be008d6680>,\n",
              " <keras.src.layers.convolutional.conv2d.Conv2D at 0x78be008d6bf0>,\n",
              " <keras.src.layers.normalization.batch_normalization.BatchNormalization at 0x78be008d6dd0>,\n",
              " <keras.src.layers.core.activation.Activation at 0x78be008d66b0>,\n",
              " <keras.src.layers.convolutional.conv2d.Conv2D at 0x78be008eca60>,\n",
              " <keras.src.layers.normalization.batch_normalization.BatchNormalization at 0x78be008ecb50>,\n",
              " <keras.src.layers.merging.add.Add at 0x78be008d6cb0>,\n",
              " <keras.src.layers.core.activation.Activation at 0x78be008ee920>,\n",
              " <keras.src.layers.convolutional.conv2d.Conv2D at 0x78be008ef7c0>,\n",
              " <keras.src.layers.normalization.batch_normalization.BatchNormalization at 0x78be008ef8e0>,\n",
              " <keras.src.layers.core.activation.Activation at 0x78be008ed600>,\n",
              " <keras.src.layers.convolutional.conv2d.Conv2D at 0x78be00908df0>,\n",
              " <keras.src.layers.normalization.batch_normalization.BatchNormalization at 0x78be00909270>,\n",
              " <keras.src.layers.core.activation.Activation at 0x78be0090af50>,\n",
              " <keras.src.layers.convolutional.conv2d.Conv2D at 0x78be0090b400>,\n",
              " <keras.src.layers.normalization.batch_normalization.BatchNormalization at 0x78be0090a7d0>,\n",
              " <keras.src.layers.merging.add.Add at 0x78be0090ae60>,\n",
              " <keras.src.layers.core.activation.Activation at 0x78be00925600>,\n",
              " <keras.src.layers.convolutional.conv2d.Conv2D at 0x78be00927820>,\n",
              " <keras.src.layers.normalization.batch_normalization.BatchNormalization at 0x78be00927af0>,\n",
              " <keras.src.layers.core.activation.Activation at 0x78be0090b070>,\n",
              " <keras.src.layers.convolutional.conv2d.Conv2D at 0x78be008ed570>,\n",
              " <keras.src.layers.normalization.batch_normalization.BatchNormalization at 0x78be008ec790>,\n",
              " <keras.src.layers.core.activation.Activation at 0x78be0285f3a0>,\n",
              " <keras.src.layers.convolutional.conv2d.Conv2D at 0x78be009248b0>,\n",
              " <keras.src.layers.convolutional.conv2d.Conv2D at 0x78be02869330>,\n",
              " <keras.src.layers.normalization.batch_normalization.BatchNormalization at 0x78be00926d10>,\n",
              " <keras.src.layers.normalization.batch_normalization.BatchNormalization at 0x78be00948250>,\n",
              " <keras.src.layers.merging.add.Add at 0x78be02869f00>,\n",
              " <keras.src.layers.core.activation.Activation at 0x78be0094a5f0>,\n",
              " <keras.src.layers.convolutional.conv2d.Conv2D at 0x78be0094ab60>,\n",
              " <keras.src.layers.normalization.batch_normalization.BatchNormalization at 0x78be0094b550>,\n",
              " <keras.src.layers.core.activation.Activation at 0x78be0094a5c0>,\n",
              " <keras.src.layers.convolutional.conv2d.Conv2D at 0x78be00958a60>,\n",
              " <keras.src.layers.normalization.batch_normalization.BatchNormalization at 0x78be00958be0>,\n",
              " <keras.src.layers.core.activation.Activation at 0x78be00959600>,\n",
              " <keras.src.layers.convolutional.conv2d.Conv2D at 0x78be00958550>,\n",
              " <keras.src.layers.normalization.batch_normalization.BatchNormalization at 0x78be0095aef0>,\n",
              " <keras.src.layers.merging.add.Add at 0x78be0095bee0>,\n",
              " <keras.src.layers.core.activation.Activation at 0x78be0096c7f0>,\n",
              " <keras.src.layers.convolutional.conv2d.Conv2D at 0x78be0096d930>,\n",
              " <keras.src.layers.normalization.batch_normalization.BatchNormalization at 0x78be0096d6c0>,\n",
              " <keras.src.layers.core.activation.Activation at 0x78be0096ebc0>,\n",
              " <keras.src.layers.convolutional.conv2d.Conv2D at 0x78be0096f070>,\n",
              " <keras.src.layers.normalization.batch_normalization.BatchNormalization at 0x78be0096ffd0>,\n",
              " <keras.src.layers.core.activation.Activation at 0x78be0096ccd0>,\n",
              " <keras.src.layers.convolutional.conv2d.Conv2D at 0x78be00990f10>,\n",
              " <keras.src.layers.normalization.batch_normalization.BatchNormalization at 0x78be00991390>,\n",
              " <keras.src.layers.merging.add.Add at 0x78be28708f40>,\n",
              " <keras.src.layers.core.activation.Activation at 0x78be009937c0>,\n",
              " <keras.src.layers.convolutional.conv2d.Conv2D at 0x78be00991930>,\n",
              " <keras.src.layers.normalization.batch_normalization.BatchNormalization at 0x78be00993a00>,\n",
              " <keras.src.layers.core.activation.Activation at 0x78be009a54e0>,\n",
              " <keras.src.layers.convolutional.conv2d.Conv2D at 0x78be009a6590>,\n",
              " <keras.src.layers.normalization.batch_normalization.BatchNormalization at 0x78be00993490>,\n",
              " <keras.src.layers.core.activation.Activation at 0x78be00990580>,\n",
              " <keras.src.layers.convolutional.conv2d.Conv2D at 0x78be0096c0a0>,\n",
              " <keras.src.layers.normalization.batch_normalization.BatchNormalization at 0x78be0285e080>,\n",
              " <keras.src.layers.merging.add.Add at 0x78be008d5450>,\n",
              " <keras.src.layers.core.activation.Activation at 0x78be009a70d0>,\n",
              " <keras.src.layers.convolutional.conv2d.Conv2D at 0x78be009a5cc0>,\n",
              " <keras.src.layers.normalization.batch_normalization.BatchNormalization at 0x78be009c88e0>,\n",
              " <keras.src.layers.core.activation.Activation at 0x78be009ca3b0>,\n",
              " <keras.src.layers.convolutional.conv2d.Conv2D at 0x78be009ca9b0>,\n",
              " <keras.src.layers.normalization.batch_normalization.BatchNormalization at 0x78be009cb0d0>,\n",
              " <keras.src.layers.core.activation.Activation at 0x78be009ca4d0>,\n",
              " <keras.src.layers.convolutional.conv2d.Conv2D at 0x78be0094a0e0>,\n",
              " <keras.src.layers.convolutional.conv2d.Conv2D at 0x78be009cb8b0>,\n",
              " <keras.src.layers.normalization.batch_normalization.BatchNormalization at 0x78be009a7820>,\n",
              " <keras.src.layers.normalization.batch_normalization.BatchNormalization at 0x78be01ad49d0>,\n",
              " <keras.src.layers.merging.add.Add at 0x78be009c9ab0>,\n",
              " <keras.src.layers.core.activation.Activation at 0x78be01ad71f0>,\n",
              " <keras.src.layers.convolutional.conv2d.Conv2D at 0x78be01ad4cd0>,\n",
              " <keras.src.layers.normalization.batch_normalization.BatchNormalization at 0x78be01ad7e20>,\n",
              " <keras.src.layers.core.activation.Activation at 0x78be01ad6050>,\n",
              " <keras.src.layers.convolutional.conv2d.Conv2D at 0x78be01aed660>,\n",
              " <keras.src.layers.normalization.batch_normalization.BatchNormalization at 0x78be01aed900>,\n",
              " <keras.src.layers.core.activation.Activation at 0x78be01aed6f0>,\n",
              " <keras.src.layers.convolutional.conv2d.Conv2D at 0x78be01aee650>,\n",
              " <keras.src.layers.normalization.batch_normalization.BatchNormalization at 0x78be01aeffa0>,\n",
              " <keras.src.layers.merging.add.Add at 0x78be01aef880>,\n",
              " <keras.src.layers.core.activation.Activation at 0x78be01b083d0>,\n",
              " <keras.src.layers.convolutional.conv2d.Conv2D at 0x78be01b0a4a0>,\n",
              " <keras.src.layers.normalization.batch_normalization.BatchNormalization at 0x78be01b0a5c0>,\n",
              " <keras.src.layers.core.activation.Activation at 0x78be01b0b790>,\n",
              " <keras.src.layers.convolutional.conv2d.Conv2D at 0x78be01b0bc70>,\n",
              " <keras.src.layers.normalization.batch_normalization.BatchNormalization at 0x78be01b0a710>,\n",
              " <keras.src.layers.core.activation.Activation at 0x78be01b0be50>,\n",
              " <keras.src.layers.convolutional.conv2d.Conv2D at 0x78be01b0bd30>,\n",
              " <keras.src.layers.normalization.batch_normalization.BatchNormalization at 0x78be01aeca90>,\n",
              " <keras.src.layers.merging.add.Add at 0x78be01ad5c00>,\n",
              " <keras.src.layers.core.activation.Activation at 0x78be009c8a30>,\n",
              " <keras.src.layers.convolutional.conv2d.Conv2D at 0x78be01b0ad10>,\n",
              " <keras.src.layers.normalization.batch_normalization.BatchNormalization at 0x78be009a5090>,\n",
              " <keras.src.layers.core.activation.Activation at 0x78be01b0a6b0>,\n",
              " <keras.src.layers.convolutional.conv2d.Conv2D at 0x78be01b276d0>,\n",
              " <keras.src.layers.normalization.batch_normalization.BatchNormalization at 0x78be01b27f10>,\n",
              " <keras.src.layers.core.activation.Activation at 0x78be01b26fb0>,\n",
              " <keras.src.layers.convolutional.conv2d.Conv2D at 0x78be01b315d0>,\n",
              " <keras.src.layers.normalization.batch_normalization.BatchNormalization at 0x78be01b31a50>,\n",
              " <keras.src.layers.merging.add.Add at 0x78be01b329e0>,\n",
              " <keras.src.layers.core.activation.Activation at 0x78be01b334f0>,\n",
              " <keras.src.layers.convolutional.conv2d.Conv2D at 0x78be01b33760>,\n",
              " <keras.src.layers.normalization.batch_normalization.BatchNormalization at 0x78be01b32800>,\n",
              " <keras.src.layers.core.activation.Activation at 0x78be01b3d6c0>,\n",
              " <keras.src.layers.convolutional.conv2d.Conv2D at 0x78be01b3db70>,\n",
              " <keras.src.layers.normalization.batch_normalization.BatchNormalization at 0x78be01b3e290>,\n",
              " <keras.src.layers.core.activation.Activation at 0x78be01b3fb20>,\n",
              " <keras.src.layers.convolutional.conv2d.Conv2D at 0x78be01b3d090>,\n",
              " <keras.src.layers.normalization.batch_normalization.BatchNormalization at 0x78be01b3df90>,\n",
              " <keras.src.layers.merging.add.Add at 0x78be01b3fa30>,\n",
              " <keras.src.layers.core.activation.Activation at 0x78be01b621d0>,\n",
              " <keras.src.layers.convolutional.conv2d.Conv2D at 0x78be01b611b0>,\n",
              " <keras.src.layers.normalization.batch_normalization.BatchNormalization at 0x78be01b62b90>,\n",
              " <keras.src.layers.core.activation.Activation at 0x78be01b61bd0>,\n",
              " <keras.src.layers.convolutional.conv2d.Conv2D at 0x78be01b74730>,\n",
              " <keras.src.layers.normalization.batch_normalization.BatchNormalization at 0x78be01b74c10>,\n",
              " <keras.src.layers.core.activation.Activation at 0x78be01b765c0>,\n",
              " <keras.src.layers.convolutional.conv2d.Conv2D at 0x78be01b75e10>,\n",
              " <keras.src.layers.normalization.batch_normalization.BatchNormalization at 0x78be01b76bc0>,\n",
              " <keras.src.layers.merging.add.Add at 0x78be01b77bb0>,\n",
              " <keras.src.layers.core.activation.Activation at 0x78be01b8c490>,\n",
              " <keras.src.layers.convolutional.conv2d.Conv2D at 0x78be008d4490>,\n",
              " <keras.src.layers.normalization.batch_normalization.BatchNormalization at 0x78be008d4a90>,\n",
              " <keras.src.layers.core.activation.Activation at 0x78be008d6fb0>,\n",
              " <keras.src.layers.convolutional.conv2d.Conv2D at 0x78be0095b0d0>,\n",
              " <keras.src.layers.normalization.batch_normalization.BatchNormalization at 0x78be0095ab30>,\n",
              " <keras.src.layers.core.activation.Activation at 0x78be0095a470>,\n",
              " <keras.src.layers.convolutional.conv2d.Conv2D at 0x78be01b77fa0>,\n",
              " <keras.src.layers.convolutional.conv2d.Conv2D at 0x78be00908220>,\n",
              " <keras.src.layers.normalization.batch_normalization.BatchNormalization at 0x78be01b77d90>,\n",
              " <keras.src.layers.normalization.batch_normalization.BatchNormalization at 0x78be009098a0>,\n",
              " <keras.src.layers.merging.add.Add at 0x78be0090b460>,\n",
              " <keras.src.layers.core.activation.Activation at 0x78be009486d0>,\n",
              " <keras.src.layers.convolutional.conv2d.Conv2D at 0x78be009cba60>,\n",
              " <keras.src.layers.normalization.batch_normalization.BatchNormalization at 0x78be0286bd00>,\n",
              " <keras.src.layers.core.activation.Activation at 0x78be009c9840>,\n",
              " <keras.src.layers.convolutional.conv2d.Conv2D at 0x78be01b74a30>,\n",
              " <keras.src.layers.normalization.batch_normalization.BatchNormalization at 0x78be01b312a0>,\n",
              " <keras.src.layers.core.activation.Activation at 0x78be01b33d90>,\n",
              " <keras.src.layers.convolutional.conv2d.Conv2D at 0x78be01b3c8e0>,\n",
              " <keras.src.layers.normalization.batch_normalization.BatchNormalization at 0x78be01b3d9c0>,\n",
              " <keras.src.layers.merging.add.Add at 0x78be009c9ed0>,\n",
              " <keras.src.layers.core.activation.Activation at 0x78be01b63430>,\n",
              " <keras.src.layers.convolutional.conv2d.Conv2D at 0x78be01aec8b0>,\n",
              " <keras.src.layers.normalization.batch_normalization.BatchNormalization at 0x78be01aef190>,\n",
              " <keras.src.layers.core.activation.Activation at 0x78be01b0af50>,\n",
              " <keras.src.layers.convolutional.conv2d.Conv2D at 0x78be01b0bca0>,\n",
              " <keras.src.layers.normalization.batch_normalization.BatchNormalization at 0x78be01b0bf70>,\n",
              " <keras.src.layers.core.activation.Activation at 0x78be01b62020>,\n",
              " <keras.src.layers.convolutional.conv2d.Conv2D at 0x78be01b25000>,\n",
              " <keras.src.layers.normalization.batch_normalization.BatchNormalization at 0x78be01b27670>,\n",
              " <keras.src.layers.merging.add.Add at 0x78be01b096f0>,\n",
              " <keras.src.layers.core.activation.Activation at 0x78be00993f70>,\n",
              " <keras.src.layers.pooling.global_average_pooling2d.GlobalAveragePooling2D at 0x78be009cb550>]"
            ]
          },
          "metadata": {},
          "execution_count": 14
        }
      ],
      "source": [
        "model.layers[0].layers"
      ]
    },
    {
      "cell_type": "code",
      "execution_count": null,
      "metadata": {
        "id": "7Z0E3lyxLbvV"
      },
      "outputs": [],
      "source": [
        "model.layers[0].trainable = False"
      ]
    },
    {
      "cell_type": "code",
      "execution_count": null,
      "metadata": {
        "colab": {
          "base_uri": "https://localhost:8080/"
        },
        "id": "e2iZBr81Lbkb",
        "outputId": "c79e4ed5-0e0a-4dad-eb57-c6f0598e86fe"
      },
      "outputs": [
        {
          "output_type": "stream",
          "name": "stdout",
          "text": [
            "Model: \"sequential\"\n",
            "_________________________________________________________________\n",
            " Layer (type)                Output Shape              Param #   \n",
            "=================================================================\n",
            " resnet50 (Functional)       (None, 2048)              23587712  \n",
            "                                                                 \n",
            " dense (Dense)               (None, 2)                 4098      \n",
            "                                                                 \n",
            "=================================================================\n",
            "Total params: 23591810 (90.00 MB)\n",
            "Trainable params: 4098 (16.01 KB)\n",
            "Non-trainable params: 23587712 (89.98 MB)\n",
            "_________________________________________________________________\n"
          ]
        }
      ],
      "source": [
        "model.summary()"
      ]
    },
    {
      "cell_type": "code",
      "execution_count": null,
      "metadata": {
        "id": "URiXqZ8wLbb9"
      },
      "outputs": [],
      "source": [
        "model.compile(optimizer='adam', loss='categorical_crossentropy', metrics=['accuracy'])"
      ]
    },
    {
      "cell_type": "code",
      "execution_count": null,
      "metadata": {
        "id": "mi7Ifz-5LbRO"
      },
      "outputs": [],
      "source": [
        "steps_per_epoch_training = len(train_generator)\n",
        "steps_per_epoch_validation = len(validation_generator)\n",
        "num_epochs = 2"
      ]
    },
    {
      "cell_type": "code",
      "execution_count": null,
      "metadata": {
        "colab": {
          "base_uri": "https://localhost:8080/"
        },
        "id": "0lzMcjduLbH1",
        "outputId": "c9a641c5-4422-4a68-83de-fd6c41be8501"
      },
      "outputs": [
        {
          "output_type": "stream",
          "name": "stderr",
          "text": [
            "<ipython-input-19-172e67583a70>:1: UserWarning: `Model.fit_generator` is deprecated and will be removed in a future version. Please use `Model.fit`, which supports generators.\n",
            "  fit_history = model.fit_generator(\n"
          ]
        },
        {
          "output_type": "stream",
          "name": "stdout",
          "text": [
            "Epoch 1/2\n",
            "101/101 [==============================] - 66s 554ms/step - loss: 0.0465 - accuracy: 0.9868 - val_loss: 0.0138 - val_accuracy: 0.9954\n",
            "Epoch 2/2\n",
            "101/101 [==============================] - 51s 509ms/step - loss: 0.0078 - accuracy: 0.9983 - val_loss: 0.0088 - val_accuracy: 0.9980\n"
          ]
        }
      ],
      "source": [
        "fit_history = model.fit_generator(\n",
        "    train_generator,\n",
        "    steps_per_epoch=steps_per_epoch_training,\n",
        "    epochs=num_epochs,\n",
        "    validation_data=validation_generator,\n",
        "    validation_steps=steps_per_epoch_validation,\n",
        "    verbose=1,\n",
        ")"
      ]
    },
    {
      "cell_type": "code",
      "execution_count": null,
      "metadata": {
        "colab": {
          "base_uri": "https://localhost:8080/"
        },
        "id": "ChUA4EcXLa_Q",
        "outputId": "92b3e564-868e-42d8-e988-0783e93a455b"
      },
      "outputs": [
        {
          "output_type": "stream",
          "name": "stderr",
          "text": [
            "/usr/local/lib/python3.10/dist-packages/keras/src/engine/training.py:3103: UserWarning: You are saving your model as an HDF5 file via `model.save()`. This file format is considered legacy. We recommend using instead the native Keras format, e.g. `model.save('my_model.keras')`.\n",
            "  saving_api.save_model(\n"
          ]
        }
      ],
      "source": [
        "model.save('classifier_resnet_model.h5')"
      ]
    },
    {
      "cell_type": "code",
      "execution_count": null,
      "metadata": {
        "colab": {
          "base_uri": "https://localhost:8080/",
          "height": 34,
          "referenced_widgets": [
            "f6b074f702e74692bd1048ec025e04ae",
            "6ec82b6fb68a44e3a5fcca41e5f50644",
            "40ba6c68d2444924bccbc5032dd2c73e",
            "376308a699564d66ac46afa3a3de40a4",
            "ae218178fda04521b56dcbe88da180b1",
            "7c9e69a5cece4f969a5db1f76dfe62a0",
            "30ea251220c1433c80009c18782d0175",
            "4f1aa9a0dd3d4d01bcd1951c69821cf7",
            "49ae51beb9e44667bf428d888e110fc3",
            "f7c8d8a56fff4c02bd8bd4a24428ac75",
            "35ea06c36daa4830bbb5346fa084b6a6",
            "fee2710f7c1e48c6a93aacf80f2f9c1c",
            "1d5244a9bb0941049c50d4fcae795894",
            "ed1464f406ce4935bd1677ffd0e47a48",
            "99f64b60c24b45eca6d85b600ef43077",
            "18b91ec765b54f7592517bcd52952472",
            "4dac7156c2494e27877cf9a7404e2790",
            "b393107a14a2437f9e072da0b37cea30",
            "457412ba3fe44e3d8acb1403870207a4",
            "7defe4f48a5241b084c119e84c4f964d",
            "9edc077ef2b642e9b67db138d3cdd7aa",
            "8133d4926daa4209ace65f67e6604780"
          ]
        },
        "id": "5GLNMIOfpE8f",
        "outputId": "0c0aaa00-a80e-44e9-c399-0bddc8147cd3"
      },
      "outputs": [
        {
          "output_type": "display_data",
          "data": {
            "text/plain": [
              "Downloading concrete_data_week4.zip:   0%|          | 0/261483817 [00:00<?, ?it/s]"
            ],
            "application/vnd.jupyter.widget-view+json": {
              "version_major": 2,
              "version_minor": 0,
              "model_id": "f6b074f702e74692bd1048ec025e04ae"
            }
          },
          "metadata": {}
        },
        {
          "output_type": "display_data",
          "data": {
            "text/plain": [
              "  0%|          | 0/80045 [00:00<?, ?it/s]"
            ],
            "application/vnd.jupyter.widget-view+json": {
              "version_major": 2,
              "version_minor": 0,
              "model_id": "fee2710f7c1e48c6a93aacf80f2f9c1c"
            }
          },
          "metadata": {}
        },
        {
          "output_type": "stream",
          "name": "stdout",
          "text": [
            "Saved to '.'\n"
          ]
        }
      ],
      "source": [
        "# get the data\n",
        "await skillsnetwork.prepare(\"https://s3-api.us-geo.objectstorage.softlayer.net/cf-courses-data/CognitiveClass/DL0321EN/data/concrete_data_week4.zip\", overwrite=True)"
      ]
    },
    {
      "cell_type": "code",
      "execution_count": null,
      "metadata": {
        "id": "oSzBVtIlzy6b"
      },
      "outputs": [],
      "source": [
        "model = load_model('classifier_resnet_model.h5')"
      ]
    },
    {
      "cell_type": "code",
      "execution_count": null,
      "metadata": {
        "id": "w5FgN1QkLa2K",
        "colab": {
          "base_uri": "https://localhost:8080/"
        },
        "outputId": "7c5ea018-2500-41cd-cc28-725eef6a06ab"
      },
      "outputs": [
        {
          "output_type": "stream",
          "name": "stdout",
          "text": [
            "Found 30001 images belonging to 2 classes.\n",
            "Found 9501 images belonging to 2 classes.\n"
          ]
        }
      ],
      "source": [
        "\n",
        "generator = ImageDataGenerator(preprocessing_function=preprocess_input)\n",
        "\n",
        "training_generator = generator.flow_from_directory(\n",
        "    'concrete_data_week4/train',\n",
        "    target_size=(image_resize, image_resize),\n",
        "    batch_size=batch_size_training,\n",
        "    class_mode=\"categorical\",\n",
        ")\n",
        "validation_generator = generator.flow_from_directory(\n",
        "    'concrete_data_week4/valid',\n",
        "    target_size=(image_resize, image_resize),\n",
        "    batch_size=batch_size_training,\n",
        "    class_mode=\"categorical\",\n",
        ")"
      ]
    },
    {
      "cell_type": "code",
      "execution_count": null,
      "metadata": {
        "id": "_p5t-Y6OLasK"
      },
      "outputs": [],
      "source": [
        "vgg16 = Sequential()"
      ]
    },
    {
      "cell_type": "code",
      "execution_count": null,
      "metadata": {
        "id": "05uRuR6GLaiE"
      },
      "outputs": [],
      "source": [
        "vgg16.add(VGG16(\n",
        "    include_top=False,\n",
        "    pooling=\"avg\",\n",
        "    weights=\"imagenet\",\n",
        "    input_shape=(image_resize, image_resize, 3)))\n"
      ]
    },
    {
      "cell_type": "code",
      "execution_count": null,
      "metadata": {
        "id": "qvtOP5klLaZD"
      },
      "outputs": [],
      "source": [
        "vgg16.add(Dense(num_classes, activation=\"softmax\"))\n"
      ]
    },
    {
      "cell_type": "code",
      "execution_count": null,
      "metadata": {
        "id": "8d4WK-eWLaIe"
      },
      "outputs": [],
      "source": [
        "vgg16.compile(optimizer=\"adam\", loss=\"categorical_crossentropy\", metrics=[\"accuracy\"])"
      ]
    },
    {
      "cell_type": "code",
      "execution_count": null,
      "metadata": {
        "colab": {
          "base_uri": "https://localhost:8080/"
        },
        "id": "SFRiYQFPLZ9E",
        "outputId": "e2676754-6a16-467d-b554-e9e49a027983"
      },
      "outputs": [
        {
          "output_type": "stream",
          "name": "stderr",
          "text": [
            "<ipython-input-29-c60872cda947>:5: UserWarning: `Model.fit_generator` is deprecated and will be removed in a future version. Please use `Model.fit`, which supports generators.\n",
            "  vgg16_story = vgg16.fit_generator(\n"
          ]
        },
        {
          "output_type": "stream",
          "name": "stdout",
          "text": [
            "Epoch 1/2\n",
            "301/301 [==============================] - 388s 1s/step - loss: 0.6932 - accuracy: 0.5005 - val_loss: 0.6932 - val_accuracy: 0.4999\n",
            "Epoch 2/2\n",
            "301/301 [==============================] - 388s 1s/step - loss: 0.6932 - accuracy: 0.4977 - val_loss: 0.6931 - val_accuracy: 0.5001\n"
          ]
        }
      ],
      "source": [
        "steps_per_epoch_training = len(training_generator)\n",
        "steps_per_epoch_validation = len(validation_generator)\n",
        "num_epochs = 2\n",
        "\n",
        "vgg16_story = vgg16.fit_generator(\n",
        "    training_generator,\n",
        "    steps_per_epoch=steps_per_epoch_training,\n",
        "    epochs=num_epochs,\n",
        "    validation_data=validation_generator,\n",
        "    validation_steps=steps_per_epoch_validation,\n",
        "    verbose=1,\n",
        ")"
      ]
    },
    {
      "cell_type": "code",
      "execution_count": null,
      "metadata": {
        "id": "o4b4MbRvLZxE"
      },
      "outputs": [],
      "source": [
        "vgg16.save(\"vgg16_model.h5\")"
      ]
    },
    {
      "cell_type": "code",
      "execution_count": null,
      "metadata": {
        "id": "GIKo3Ln7LZYk",
        "colab": {
          "base_uri": "https://localhost:8080/"
        },
        "outputId": "7bcc83b4-fff3-4474-f724-2fc1000b8796"
      },
      "outputs": [
        {
          "output_type": "stream",
          "name": "stdout",
          "text": [
            "Found 500 images belonging to 2 classes.\n"
          ]
        }
      ],
      "source": [
        "testing_generator = generator.flow_from_directory(\n",
        "    \"concrete_data_week4/test\", target_size=(image_resize, image_resize), shuffle=False,\n",
        ")"
      ]
    },
    {
      "cell_type": "code",
      "execution_count": null,
      "metadata": {
        "id": "Bri9t9lRLZAP",
        "colab": {
          "base_uri": "https://localhost:8080/"
        },
        "outputId": "0044c41c-5af7-4721-a19d-4a934481c114"
      },
      "outputs": [
        {
          "output_type": "stream",
          "name": "stderr",
          "text": [
            "<ipython-input-32-383efb3f44ef>:1: UserWarning: `Model.evaluate_generator` is deprecated and will be removed in a future version. Please use `Model.evaluate`, which supports generators.\n",
            "  resnet50_perf = model.evaluate_generator(testing_generator)\n"
          ]
        },
        {
          "output_type": "stream",
          "name": "stdout",
          "text": [
            "Loss: 0.00576\n",
            "Accuracy: 1.0\n"
          ]
        }
      ],
      "source": [
        "resnet50_perf = model.evaluate_generator(testing_generator)\n",
        "print(\"Loss: {}\".format(round(resnet50_perf[0], 5)))\n",
        "print(\"Accuracy: {}\".format(round(resnet50_perf[1], 5)))"
      ]
    },
    {
      "cell_type": "code",
      "execution_count": null,
      "metadata": {
        "id": "nYwU1ChgLXGi",
        "colab": {
          "base_uri": "https://localhost:8080/"
        },
        "outputId": "fb78b7e5-1819-414e-e743-04c802c236ec"
      },
      "outputs": [
        {
          "output_type": "stream",
          "name": "stderr",
          "text": [
            "<ipython-input-33-fd22f212167d>:1: UserWarning: `Model.evaluate_generator` is deprecated and will be removed in a future version. Please use `Model.evaluate`, which supports generators.\n",
            "  vgg16_perf = vgg16.evaluate_generator(testing_generator)\n"
          ]
        },
        {
          "output_type": "stream",
          "name": "stdout",
          "text": [
            "Loss: 0.69315\n",
            "Accuracy: 0.5\n"
          ]
        }
      ],
      "source": [
        "vgg16_perf = vgg16.evaluate_generator(testing_generator)\n",
        "print(\"Loss: {}\".format(round(vgg16_perf[0], 5)))\n",
        "print(\"Accuracy: {}\".format(round(vgg16_perf[1], 5)))"
      ]
    },
    {
      "cell_type": "code",
      "execution_count": null,
      "metadata": {
        "id": "dJa8agPSMXNW",
        "colab": {
          "base_uri": "https://localhost:8080/"
        },
        "outputId": "2dcdcfa8-4f1c-4c71-cabf-a1b53a5f709b"
      },
      "outputs": [
        {
          "output_type": "stream",
          "name": "stderr",
          "text": [
            "<ipython-input-34-76325b9add4e>:1: UserWarning: `Model.predict_generator` is deprecated and will be removed in a future version. Please use `Model.predict`, which supports generators.\n",
            "  predictions_vgg16 = vgg16.predict_generator(testing_generator, steps=1)\n"
          ]
        },
        {
          "output_type": "stream",
          "name": "stdout",
          "text": [
            "Negative (50.1% certainty)\n",
            "Negative (50.1% certainty)\n",
            "Negative (50.1% certainty)\n",
            "Negative (50.1% certainty)\n",
            "Negative (50.1% certainty)\n"
          ]
        }
      ],
      "source": [
        "predictions_vgg16 = vgg16.predict_generator(testing_generator, steps=1)\n",
        "\n",
        "\n",
        "def print_prediction(prediction):\n",
        "    if prediction[0] > prediction[1]:\n",
        "        print(\"Negative ({}% certainty)\".format(round(prediction[0] * 100, 1)))\n",
        "    elif prediction[1] > prediction[0]:\n",
        "        print(\"Positive ({}% certainty)\".format(round(prediction[1] * 100, 1)))\n",
        "\n",
        "for i in range(5):\n",
        "    print_prediction(predictions_vgg16[i])"
      ]
    },
    {
      "cell_type": "code",
      "execution_count": null,
      "metadata": {
        "id": "97DILOUzMdvD",
        "colab": {
          "base_uri": "https://localhost:8080/"
        },
        "outputId": "8d6b9615-101f-4cbf-a017-3482f87137de"
      },
      "outputs": [
        {
          "output_type": "stream",
          "name": "stderr",
          "text": [
            "<ipython-input-35-c616ad375838>:1: UserWarning: `Model.predict_generator` is deprecated and will be removed in a future version. Please use `Model.predict`, which supports generators.\n",
            "  predictions_resnet50 = model.predict_generator(testing_generator, steps=1)\n"
          ]
        },
        {
          "output_type": "stream",
          "name": "stdout",
          "text": [
            "Negative (99.9% certainty)\n",
            "Negative (99.2% certainty)\n",
            "Negative (98.7% certainty)\n",
            "Negative (99.6% certainty)\n",
            "Negative (99.9% certainty)\n"
          ]
        }
      ],
      "source": [
        "predictions_resnet50 = model.predict_generator(testing_generator, steps=1)\n",
        "for i in range(5):\n",
        "    print_prediction(predictions_resnet50[i])"
      ]
    }
  ],
  "metadata": {
    "colab": {
      "provenance": [],
      "gpuType": "T4"
    },
    "kernelspec": {
      "display_name": "Python 3",
      "name": "python3"
    },
    "language_info": {
      "name": "python"
    },
    "widgets": {
      "application/vnd.jupyter.widget-state+json": {
        "9ade130a452f4218b449b1577a8bd412": {
          "model_module": "@jupyter-widgets/controls",
          "model_name": "HBoxModel",
          "model_module_version": "2.0.0",
          "state": {
            "_dom_classes": [],
            "_model_module": "@jupyter-widgets/controls",
            "_model_module_version": "2.0.0",
            "_model_name": "HBoxModel",
            "_view_count": null,
            "_view_module": "@jupyter-widgets/controls",
            "_view_module_version": "2.0.0",
            "_view_name": "HBoxView",
            "box_style": "",
            "children": [
              "IPY_MODEL_7257857ed6194feca639c289093e0773",
              "IPY_MODEL_8366edcb670d4ca780eaec661efc5b68",
              "IPY_MODEL_5856bdfb5fd246db807559115898b830"
            ],
            "layout": "IPY_MODEL_e6ea5a6908494be69464c9a0c649529c",
            "tabbable": null,
            "tooltip": null
          }
        },
        "7257857ed6194feca639c289093e0773": {
          "model_module": "@jupyter-widgets/controls",
          "model_name": "HTMLModel",
          "model_module_version": "2.0.0",
          "state": {
            "_dom_classes": [],
            "_model_module": "@jupyter-widgets/controls",
            "_model_module_version": "2.0.0",
            "_model_name": "HTMLModel",
            "_view_count": null,
            "_view_module": "@jupyter-widgets/controls",
            "_view_module_version": "2.0.0",
            "_view_name": "HTMLView",
            "description": "",
            "description_allow_html": false,
            "layout": "IPY_MODEL_462122bcde8d454ca5e5f9ae4427c0d1",
            "placeholder": "​",
            "style": "IPY_MODEL_8ec91e25e0194486bc50a689dafa5137",
            "tabbable": null,
            "tooltip": null,
            "value": "Downloading concrete_data_week3.zip: 100%"
          }
        },
        "8366edcb670d4ca780eaec661efc5b68": {
          "model_module": "@jupyter-widgets/controls",
          "model_name": "FloatProgressModel",
          "model_module_version": "2.0.0",
          "state": {
            "_dom_classes": [],
            "_model_module": "@jupyter-widgets/controls",
            "_model_module_version": "2.0.0",
            "_model_name": "FloatProgressModel",
            "_view_count": null,
            "_view_module": "@jupyter-widgets/controls",
            "_view_module_version": "2.0.0",
            "_view_name": "ProgressView",
            "bar_style": "success",
            "description": "",
            "description_allow_html": false,
            "layout": "IPY_MODEL_f56cd686e6b94ea0b3800ab37a2adb73",
            "max": 97863179,
            "min": 0,
            "orientation": "horizontal",
            "style": "IPY_MODEL_18a62fffa004485cb73471e27ebe1418",
            "tabbable": null,
            "tooltip": null,
            "value": 97863179
          }
        },
        "5856bdfb5fd246db807559115898b830": {
          "model_module": "@jupyter-widgets/controls",
          "model_name": "HTMLModel",
          "model_module_version": "2.0.0",
          "state": {
            "_dom_classes": [],
            "_model_module": "@jupyter-widgets/controls",
            "_model_module_version": "2.0.0",
            "_model_name": "HTMLModel",
            "_view_count": null,
            "_view_module": "@jupyter-widgets/controls",
            "_view_module_version": "2.0.0",
            "_view_name": "HTMLView",
            "description": "",
            "description_allow_html": false,
            "layout": "IPY_MODEL_e6639ae29441406db0b27a7050b8dd5e",
            "placeholder": "​",
            "style": "IPY_MODEL_b7f9d0bf2b0745148f9861cb9c8ab9bb",
            "tabbable": null,
            "tooltip": null,
            "value": " 97863179/97863179 [00:02&lt;00:00, 55883878.11it/s]"
          }
        },
        "e6ea5a6908494be69464c9a0c649529c": {
          "model_module": "@jupyter-widgets/base",
          "model_name": "LayoutModel",
          "model_module_version": "2.0.0",
          "state": {
            "_model_module": "@jupyter-widgets/base",
            "_model_module_version": "2.0.0",
            "_model_name": "LayoutModel",
            "_view_count": null,
            "_view_module": "@jupyter-widgets/base",
            "_view_module_version": "2.0.0",
            "_view_name": "LayoutView",
            "align_content": null,
            "align_items": null,
            "align_self": null,
            "border_bottom": null,
            "border_left": null,
            "border_right": null,
            "border_top": null,
            "bottom": null,
            "display": null,
            "flex": null,
            "flex_flow": null,
            "grid_area": null,
            "grid_auto_columns": null,
            "grid_auto_flow": null,
            "grid_auto_rows": null,
            "grid_column": null,
            "grid_gap": null,
            "grid_row": null,
            "grid_template_areas": null,
            "grid_template_columns": null,
            "grid_template_rows": null,
            "height": null,
            "justify_content": null,
            "justify_items": null,
            "left": null,
            "margin": null,
            "max_height": null,
            "max_width": null,
            "min_height": null,
            "min_width": null,
            "object_fit": null,
            "object_position": null,
            "order": null,
            "overflow": null,
            "padding": null,
            "right": null,
            "top": null,
            "visibility": null,
            "width": null
          }
        },
        "462122bcde8d454ca5e5f9ae4427c0d1": {
          "model_module": "@jupyter-widgets/base",
          "model_name": "LayoutModel",
          "model_module_version": "2.0.0",
          "state": {
            "_model_module": "@jupyter-widgets/base",
            "_model_module_version": "2.0.0",
            "_model_name": "LayoutModel",
            "_view_count": null,
            "_view_module": "@jupyter-widgets/base",
            "_view_module_version": "2.0.0",
            "_view_name": "LayoutView",
            "align_content": null,
            "align_items": null,
            "align_self": null,
            "border_bottom": null,
            "border_left": null,
            "border_right": null,
            "border_top": null,
            "bottom": null,
            "display": null,
            "flex": null,
            "flex_flow": null,
            "grid_area": null,
            "grid_auto_columns": null,
            "grid_auto_flow": null,
            "grid_auto_rows": null,
            "grid_column": null,
            "grid_gap": null,
            "grid_row": null,
            "grid_template_areas": null,
            "grid_template_columns": null,
            "grid_template_rows": null,
            "height": null,
            "justify_content": null,
            "justify_items": null,
            "left": null,
            "margin": null,
            "max_height": null,
            "max_width": null,
            "min_height": null,
            "min_width": null,
            "object_fit": null,
            "object_position": null,
            "order": null,
            "overflow": null,
            "padding": null,
            "right": null,
            "top": null,
            "visibility": null,
            "width": null
          }
        },
        "8ec91e25e0194486bc50a689dafa5137": {
          "model_module": "@jupyter-widgets/controls",
          "model_name": "HTMLStyleModel",
          "model_module_version": "2.0.0",
          "state": {
            "_model_module": "@jupyter-widgets/controls",
            "_model_module_version": "2.0.0",
            "_model_name": "HTMLStyleModel",
            "_view_count": null,
            "_view_module": "@jupyter-widgets/base",
            "_view_module_version": "2.0.0",
            "_view_name": "StyleView",
            "background": null,
            "description_width": "",
            "font_size": null,
            "text_color": null
          }
        },
        "f56cd686e6b94ea0b3800ab37a2adb73": {
          "model_module": "@jupyter-widgets/base",
          "model_name": "LayoutModel",
          "model_module_version": "2.0.0",
          "state": {
            "_model_module": "@jupyter-widgets/base",
            "_model_module_version": "2.0.0",
            "_model_name": "LayoutModel",
            "_view_count": null,
            "_view_module": "@jupyter-widgets/base",
            "_view_module_version": "2.0.0",
            "_view_name": "LayoutView",
            "align_content": null,
            "align_items": null,
            "align_self": null,
            "border_bottom": null,
            "border_left": null,
            "border_right": null,
            "border_top": null,
            "bottom": null,
            "display": null,
            "flex": null,
            "flex_flow": null,
            "grid_area": null,
            "grid_auto_columns": null,
            "grid_auto_flow": null,
            "grid_auto_rows": null,
            "grid_column": null,
            "grid_gap": null,
            "grid_row": null,
            "grid_template_areas": null,
            "grid_template_columns": null,
            "grid_template_rows": null,
            "height": null,
            "justify_content": null,
            "justify_items": null,
            "left": null,
            "margin": null,
            "max_height": null,
            "max_width": null,
            "min_height": null,
            "min_width": null,
            "object_fit": null,
            "object_position": null,
            "order": null,
            "overflow": null,
            "padding": null,
            "right": null,
            "top": null,
            "visibility": null,
            "width": null
          }
        },
        "18a62fffa004485cb73471e27ebe1418": {
          "model_module": "@jupyter-widgets/controls",
          "model_name": "ProgressStyleModel",
          "model_module_version": "2.0.0",
          "state": {
            "_model_module": "@jupyter-widgets/controls",
            "_model_module_version": "2.0.0",
            "_model_name": "ProgressStyleModel",
            "_view_count": null,
            "_view_module": "@jupyter-widgets/base",
            "_view_module_version": "2.0.0",
            "_view_name": "StyleView",
            "bar_color": null,
            "description_width": ""
          }
        },
        "e6639ae29441406db0b27a7050b8dd5e": {
          "model_module": "@jupyter-widgets/base",
          "model_name": "LayoutModel",
          "model_module_version": "2.0.0",
          "state": {
            "_model_module": "@jupyter-widgets/base",
            "_model_module_version": "2.0.0",
            "_model_name": "LayoutModel",
            "_view_count": null,
            "_view_module": "@jupyter-widgets/base",
            "_view_module_version": "2.0.0",
            "_view_name": "LayoutView",
            "align_content": null,
            "align_items": null,
            "align_self": null,
            "border_bottom": null,
            "border_left": null,
            "border_right": null,
            "border_top": null,
            "bottom": null,
            "display": null,
            "flex": null,
            "flex_flow": null,
            "grid_area": null,
            "grid_auto_columns": null,
            "grid_auto_flow": null,
            "grid_auto_rows": null,
            "grid_column": null,
            "grid_gap": null,
            "grid_row": null,
            "grid_template_areas": null,
            "grid_template_columns": null,
            "grid_template_rows": null,
            "height": null,
            "justify_content": null,
            "justify_items": null,
            "left": null,
            "margin": null,
            "max_height": null,
            "max_width": null,
            "min_height": null,
            "min_width": null,
            "object_fit": null,
            "object_position": null,
            "order": null,
            "overflow": null,
            "padding": null,
            "right": null,
            "top": null,
            "visibility": null,
            "width": null
          }
        },
        "b7f9d0bf2b0745148f9861cb9c8ab9bb": {
          "model_module": "@jupyter-widgets/controls",
          "model_name": "HTMLStyleModel",
          "model_module_version": "2.0.0",
          "state": {
            "_model_module": "@jupyter-widgets/controls",
            "_model_module_version": "2.0.0",
            "_model_name": "HTMLStyleModel",
            "_view_count": null,
            "_view_module": "@jupyter-widgets/base",
            "_view_module_version": "2.0.0",
            "_view_name": "StyleView",
            "background": null,
            "description_width": "",
            "font_size": null,
            "text_color": null
          }
        },
        "291aad263e8940e1a1a675ed7534af2e": {
          "model_module": "@jupyter-widgets/controls",
          "model_name": "HBoxModel",
          "model_module_version": "2.0.0",
          "state": {
            "_dom_classes": [],
            "_model_module": "@jupyter-widgets/controls",
            "_model_module_version": "2.0.0",
            "_model_name": "HBoxModel",
            "_view_count": null,
            "_view_module": "@jupyter-widgets/controls",
            "_view_module_version": "2.0.0",
            "_view_name": "HBoxView",
            "box_style": "",
            "children": [
              "IPY_MODEL_564a0a4162b0411788ab9f75f40d6cd6",
              "IPY_MODEL_923ba50cb1d841ae9f1be001a9f8a2fb",
              "IPY_MODEL_d6258f31f320488aba4def176f13cb3b"
            ],
            "layout": "IPY_MODEL_e5a72f85eb9f4a3f823fb179143e361c",
            "tabbable": null,
            "tooltip": null
          }
        },
        "564a0a4162b0411788ab9f75f40d6cd6": {
          "model_module": "@jupyter-widgets/controls",
          "model_name": "HTMLModel",
          "model_module_version": "2.0.0",
          "state": {
            "_dom_classes": [],
            "_model_module": "@jupyter-widgets/controls",
            "_model_module_version": "2.0.0",
            "_model_name": "HTMLModel",
            "_view_count": null,
            "_view_module": "@jupyter-widgets/controls",
            "_view_module_version": "2.0.0",
            "_view_name": "HTMLView",
            "description": "",
            "description_allow_html": false,
            "layout": "IPY_MODEL_d4d7d7895f8f40d1b29022d7ebc59af2",
            "placeholder": "​",
            "style": "IPY_MODEL_dfe41b2f9ec34c0499fa0b038137f64c",
            "tabbable": null,
            "tooltip": null,
            "value": "Extracting concrete_data_week3.zip: 100%"
          }
        },
        "923ba50cb1d841ae9f1be001a9f8a2fb": {
          "model_module": "@jupyter-widgets/controls",
          "model_name": "FloatProgressModel",
          "model_module_version": "2.0.0",
          "state": {
            "_dom_classes": [],
            "_model_module": "@jupyter-widgets/controls",
            "_model_module_version": "2.0.0",
            "_model_name": "FloatProgressModel",
            "_view_count": null,
            "_view_module": "@jupyter-widgets/controls",
            "_view_module_version": "2.0.0",
            "_view_name": "ProgressView",
            "bar_style": "success",
            "description": "",
            "description_allow_html": false,
            "layout": "IPY_MODEL_622cf5d86bb444afa4bd87dbe7fb8082",
            "max": 30036,
            "min": 0,
            "orientation": "horizontal",
            "style": "IPY_MODEL_576e7a96dd494511ac0169e397e2719a",
            "tabbable": null,
            "tooltip": null,
            "value": 30036
          }
        },
        "d6258f31f320488aba4def176f13cb3b": {
          "model_module": "@jupyter-widgets/controls",
          "model_name": "HTMLModel",
          "model_module_version": "2.0.0",
          "state": {
            "_dom_classes": [],
            "_model_module": "@jupyter-widgets/controls",
            "_model_module_version": "2.0.0",
            "_model_name": "HTMLModel",
            "_view_count": null,
            "_view_module": "@jupyter-widgets/controls",
            "_view_module_version": "2.0.0",
            "_view_name": "HTMLView",
            "description": "",
            "description_allow_html": false,
            "layout": "IPY_MODEL_f8448f1bbf234032ac16a8b4cbb3d1c8",
            "placeholder": "​",
            "style": "IPY_MODEL_6e85840919404b20911ae4d507c3a235",
            "tabbable": null,
            "tooltip": null,
            "value": " 30036/30036 [00:10&lt;00:00, 5533.37it/s]"
          }
        },
        "e5a72f85eb9f4a3f823fb179143e361c": {
          "model_module": "@jupyter-widgets/base",
          "model_name": "LayoutModel",
          "model_module_version": "2.0.0",
          "state": {
            "_model_module": "@jupyter-widgets/base",
            "_model_module_version": "2.0.0",
            "_model_name": "LayoutModel",
            "_view_count": null,
            "_view_module": "@jupyter-widgets/base",
            "_view_module_version": "2.0.0",
            "_view_name": "LayoutView",
            "align_content": null,
            "align_items": null,
            "align_self": null,
            "border_bottom": null,
            "border_left": null,
            "border_right": null,
            "border_top": null,
            "bottom": null,
            "display": null,
            "flex": null,
            "flex_flow": null,
            "grid_area": null,
            "grid_auto_columns": null,
            "grid_auto_flow": null,
            "grid_auto_rows": null,
            "grid_column": null,
            "grid_gap": null,
            "grid_row": null,
            "grid_template_areas": null,
            "grid_template_columns": null,
            "grid_template_rows": null,
            "height": null,
            "justify_content": null,
            "justify_items": null,
            "left": null,
            "margin": null,
            "max_height": null,
            "max_width": null,
            "min_height": null,
            "min_width": null,
            "object_fit": null,
            "object_position": null,
            "order": null,
            "overflow": null,
            "padding": null,
            "right": null,
            "top": null,
            "visibility": null,
            "width": null
          }
        },
        "d4d7d7895f8f40d1b29022d7ebc59af2": {
          "model_module": "@jupyter-widgets/base",
          "model_name": "LayoutModel",
          "model_module_version": "2.0.0",
          "state": {
            "_model_module": "@jupyter-widgets/base",
            "_model_module_version": "2.0.0",
            "_model_name": "LayoutModel",
            "_view_count": null,
            "_view_module": "@jupyter-widgets/base",
            "_view_module_version": "2.0.0",
            "_view_name": "LayoutView",
            "align_content": null,
            "align_items": null,
            "align_self": null,
            "border_bottom": null,
            "border_left": null,
            "border_right": null,
            "border_top": null,
            "bottom": null,
            "display": null,
            "flex": null,
            "flex_flow": null,
            "grid_area": null,
            "grid_auto_columns": null,
            "grid_auto_flow": null,
            "grid_auto_rows": null,
            "grid_column": null,
            "grid_gap": null,
            "grid_row": null,
            "grid_template_areas": null,
            "grid_template_columns": null,
            "grid_template_rows": null,
            "height": null,
            "justify_content": null,
            "justify_items": null,
            "left": null,
            "margin": null,
            "max_height": null,
            "max_width": null,
            "min_height": null,
            "min_width": null,
            "object_fit": null,
            "object_position": null,
            "order": null,
            "overflow": null,
            "padding": null,
            "right": null,
            "top": null,
            "visibility": null,
            "width": null
          }
        },
        "dfe41b2f9ec34c0499fa0b038137f64c": {
          "model_module": "@jupyter-widgets/controls",
          "model_name": "HTMLStyleModel",
          "model_module_version": "2.0.0",
          "state": {
            "_model_module": "@jupyter-widgets/controls",
            "_model_module_version": "2.0.0",
            "_model_name": "HTMLStyleModel",
            "_view_count": null,
            "_view_module": "@jupyter-widgets/base",
            "_view_module_version": "2.0.0",
            "_view_name": "StyleView",
            "background": null,
            "description_width": "",
            "font_size": null,
            "text_color": null
          }
        },
        "622cf5d86bb444afa4bd87dbe7fb8082": {
          "model_module": "@jupyter-widgets/base",
          "model_name": "LayoutModel",
          "model_module_version": "2.0.0",
          "state": {
            "_model_module": "@jupyter-widgets/base",
            "_model_module_version": "2.0.0",
            "_model_name": "LayoutModel",
            "_view_count": null,
            "_view_module": "@jupyter-widgets/base",
            "_view_module_version": "2.0.0",
            "_view_name": "LayoutView",
            "align_content": null,
            "align_items": null,
            "align_self": null,
            "border_bottom": null,
            "border_left": null,
            "border_right": null,
            "border_top": null,
            "bottom": null,
            "display": null,
            "flex": null,
            "flex_flow": null,
            "grid_area": null,
            "grid_auto_columns": null,
            "grid_auto_flow": null,
            "grid_auto_rows": null,
            "grid_column": null,
            "grid_gap": null,
            "grid_row": null,
            "grid_template_areas": null,
            "grid_template_columns": null,
            "grid_template_rows": null,
            "height": null,
            "justify_content": null,
            "justify_items": null,
            "left": null,
            "margin": null,
            "max_height": null,
            "max_width": null,
            "min_height": null,
            "min_width": null,
            "object_fit": null,
            "object_position": null,
            "order": null,
            "overflow": null,
            "padding": null,
            "right": null,
            "top": null,
            "visibility": null,
            "width": null
          }
        },
        "576e7a96dd494511ac0169e397e2719a": {
          "model_module": "@jupyter-widgets/controls",
          "model_name": "ProgressStyleModel",
          "model_module_version": "2.0.0",
          "state": {
            "_model_module": "@jupyter-widgets/controls",
            "_model_module_version": "2.0.0",
            "_model_name": "ProgressStyleModel",
            "_view_count": null,
            "_view_module": "@jupyter-widgets/base",
            "_view_module_version": "2.0.0",
            "_view_name": "StyleView",
            "bar_color": null,
            "description_width": ""
          }
        },
        "f8448f1bbf234032ac16a8b4cbb3d1c8": {
          "model_module": "@jupyter-widgets/base",
          "model_name": "LayoutModel",
          "model_module_version": "2.0.0",
          "state": {
            "_model_module": "@jupyter-widgets/base",
            "_model_module_version": "2.0.0",
            "_model_name": "LayoutModel",
            "_view_count": null,
            "_view_module": "@jupyter-widgets/base",
            "_view_module_version": "2.0.0",
            "_view_name": "LayoutView",
            "align_content": null,
            "align_items": null,
            "align_self": null,
            "border_bottom": null,
            "border_left": null,
            "border_right": null,
            "border_top": null,
            "bottom": null,
            "display": null,
            "flex": null,
            "flex_flow": null,
            "grid_area": null,
            "grid_auto_columns": null,
            "grid_auto_flow": null,
            "grid_auto_rows": null,
            "grid_column": null,
            "grid_gap": null,
            "grid_row": null,
            "grid_template_areas": null,
            "grid_template_columns": null,
            "grid_template_rows": null,
            "height": null,
            "justify_content": null,
            "justify_items": null,
            "left": null,
            "margin": null,
            "max_height": null,
            "max_width": null,
            "min_height": null,
            "min_width": null,
            "object_fit": null,
            "object_position": null,
            "order": null,
            "overflow": null,
            "padding": null,
            "right": null,
            "top": null,
            "visibility": null,
            "width": null
          }
        },
        "6e85840919404b20911ae4d507c3a235": {
          "model_module": "@jupyter-widgets/controls",
          "model_name": "HTMLStyleModel",
          "model_module_version": "2.0.0",
          "state": {
            "_model_module": "@jupyter-widgets/controls",
            "_model_module_version": "2.0.0",
            "_model_name": "HTMLStyleModel",
            "_view_count": null,
            "_view_module": "@jupyter-widgets/base",
            "_view_module_version": "2.0.0",
            "_view_name": "StyleView",
            "background": null,
            "description_width": "",
            "font_size": null,
            "text_color": null
          }
        },
        "f6b074f702e74692bd1048ec025e04ae": {
          "model_module": "@jupyter-widgets/controls",
          "model_name": "HBoxModel",
          "model_module_version": "2.0.0",
          "state": {
            "_dom_classes": [],
            "_model_module": "@jupyter-widgets/controls",
            "_model_module_version": "2.0.0",
            "_model_name": "HBoxModel",
            "_view_count": null,
            "_view_module": "@jupyter-widgets/controls",
            "_view_module_version": "2.0.0",
            "_view_name": "HBoxView",
            "box_style": "",
            "children": [
              "IPY_MODEL_6ec82b6fb68a44e3a5fcca41e5f50644",
              "IPY_MODEL_40ba6c68d2444924bccbc5032dd2c73e",
              "IPY_MODEL_376308a699564d66ac46afa3a3de40a4"
            ],
            "layout": "IPY_MODEL_ae218178fda04521b56dcbe88da180b1",
            "tabbable": null,
            "tooltip": null
          }
        },
        "6ec82b6fb68a44e3a5fcca41e5f50644": {
          "model_module": "@jupyter-widgets/controls",
          "model_name": "HTMLModel",
          "model_module_version": "2.0.0",
          "state": {
            "_dom_classes": [],
            "_model_module": "@jupyter-widgets/controls",
            "_model_module_version": "2.0.0",
            "_model_name": "HTMLModel",
            "_view_count": null,
            "_view_module": "@jupyter-widgets/controls",
            "_view_module_version": "2.0.0",
            "_view_name": "HTMLView",
            "description": "",
            "description_allow_html": false,
            "layout": "IPY_MODEL_7c9e69a5cece4f969a5db1f76dfe62a0",
            "placeholder": "​",
            "style": "IPY_MODEL_30ea251220c1433c80009c18782d0175",
            "tabbable": null,
            "tooltip": null,
            "value": "Downloading concrete_data_week4.zip: 100%"
          }
        },
        "40ba6c68d2444924bccbc5032dd2c73e": {
          "model_module": "@jupyter-widgets/controls",
          "model_name": "FloatProgressModel",
          "model_module_version": "2.0.0",
          "state": {
            "_dom_classes": [],
            "_model_module": "@jupyter-widgets/controls",
            "_model_module_version": "2.0.0",
            "_model_name": "FloatProgressModel",
            "_view_count": null,
            "_view_module": "@jupyter-widgets/controls",
            "_view_module_version": "2.0.0",
            "_view_name": "ProgressView",
            "bar_style": "success",
            "description": "",
            "description_allow_html": false,
            "layout": "IPY_MODEL_4f1aa9a0dd3d4d01bcd1951c69821cf7",
            "max": 261483817,
            "min": 0,
            "orientation": "horizontal",
            "style": "IPY_MODEL_49ae51beb9e44667bf428d888e110fc3",
            "tabbable": null,
            "tooltip": null,
            "value": 261483817
          }
        },
        "376308a699564d66ac46afa3a3de40a4": {
          "model_module": "@jupyter-widgets/controls",
          "model_name": "HTMLModel",
          "model_module_version": "2.0.0",
          "state": {
            "_dom_classes": [],
            "_model_module": "@jupyter-widgets/controls",
            "_model_module_version": "2.0.0",
            "_model_name": "HTMLModel",
            "_view_count": null,
            "_view_module": "@jupyter-widgets/controls",
            "_view_module_version": "2.0.0",
            "_view_name": "HTMLView",
            "description": "",
            "description_allow_html": false,
            "layout": "IPY_MODEL_f7c8d8a56fff4c02bd8bd4a24428ac75",
            "placeholder": "​",
            "style": "IPY_MODEL_35ea06c36daa4830bbb5346fa084b6a6",
            "tabbable": null,
            "tooltip": null,
            "value": " 261483817/261483817 [00:25&lt;00:00, 15588460.19it/s]"
          }
        },
        "ae218178fda04521b56dcbe88da180b1": {
          "model_module": "@jupyter-widgets/base",
          "model_name": "LayoutModel",
          "model_module_version": "2.0.0",
          "state": {
            "_model_module": "@jupyter-widgets/base",
            "_model_module_version": "2.0.0",
            "_model_name": "LayoutModel",
            "_view_count": null,
            "_view_module": "@jupyter-widgets/base",
            "_view_module_version": "2.0.0",
            "_view_name": "LayoutView",
            "align_content": null,
            "align_items": null,
            "align_self": null,
            "border_bottom": null,
            "border_left": null,
            "border_right": null,
            "border_top": null,
            "bottom": null,
            "display": null,
            "flex": null,
            "flex_flow": null,
            "grid_area": null,
            "grid_auto_columns": null,
            "grid_auto_flow": null,
            "grid_auto_rows": null,
            "grid_column": null,
            "grid_gap": null,
            "grid_row": null,
            "grid_template_areas": null,
            "grid_template_columns": null,
            "grid_template_rows": null,
            "height": null,
            "justify_content": null,
            "justify_items": null,
            "left": null,
            "margin": null,
            "max_height": null,
            "max_width": null,
            "min_height": null,
            "min_width": null,
            "object_fit": null,
            "object_position": null,
            "order": null,
            "overflow": null,
            "padding": null,
            "right": null,
            "top": null,
            "visibility": null,
            "width": null
          }
        },
        "7c9e69a5cece4f969a5db1f76dfe62a0": {
          "model_module": "@jupyter-widgets/base",
          "model_name": "LayoutModel",
          "model_module_version": "2.0.0",
          "state": {
            "_model_module": "@jupyter-widgets/base",
            "_model_module_version": "2.0.0",
            "_model_name": "LayoutModel",
            "_view_count": null,
            "_view_module": "@jupyter-widgets/base",
            "_view_module_version": "2.0.0",
            "_view_name": "LayoutView",
            "align_content": null,
            "align_items": null,
            "align_self": null,
            "border_bottom": null,
            "border_left": null,
            "border_right": null,
            "border_top": null,
            "bottom": null,
            "display": null,
            "flex": null,
            "flex_flow": null,
            "grid_area": null,
            "grid_auto_columns": null,
            "grid_auto_flow": null,
            "grid_auto_rows": null,
            "grid_column": null,
            "grid_gap": null,
            "grid_row": null,
            "grid_template_areas": null,
            "grid_template_columns": null,
            "grid_template_rows": null,
            "height": null,
            "justify_content": null,
            "justify_items": null,
            "left": null,
            "margin": null,
            "max_height": null,
            "max_width": null,
            "min_height": null,
            "min_width": null,
            "object_fit": null,
            "object_position": null,
            "order": null,
            "overflow": null,
            "padding": null,
            "right": null,
            "top": null,
            "visibility": null,
            "width": null
          }
        },
        "30ea251220c1433c80009c18782d0175": {
          "model_module": "@jupyter-widgets/controls",
          "model_name": "HTMLStyleModel",
          "model_module_version": "2.0.0",
          "state": {
            "_model_module": "@jupyter-widgets/controls",
            "_model_module_version": "2.0.0",
            "_model_name": "HTMLStyleModel",
            "_view_count": null,
            "_view_module": "@jupyter-widgets/base",
            "_view_module_version": "2.0.0",
            "_view_name": "StyleView",
            "background": null,
            "description_width": "",
            "font_size": null,
            "text_color": null
          }
        },
        "4f1aa9a0dd3d4d01bcd1951c69821cf7": {
          "model_module": "@jupyter-widgets/base",
          "model_name": "LayoutModel",
          "model_module_version": "2.0.0",
          "state": {
            "_model_module": "@jupyter-widgets/base",
            "_model_module_version": "2.0.0",
            "_model_name": "LayoutModel",
            "_view_count": null,
            "_view_module": "@jupyter-widgets/base",
            "_view_module_version": "2.0.0",
            "_view_name": "LayoutView",
            "align_content": null,
            "align_items": null,
            "align_self": null,
            "border_bottom": null,
            "border_left": null,
            "border_right": null,
            "border_top": null,
            "bottom": null,
            "display": null,
            "flex": null,
            "flex_flow": null,
            "grid_area": null,
            "grid_auto_columns": null,
            "grid_auto_flow": null,
            "grid_auto_rows": null,
            "grid_column": null,
            "grid_gap": null,
            "grid_row": null,
            "grid_template_areas": null,
            "grid_template_columns": null,
            "grid_template_rows": null,
            "height": null,
            "justify_content": null,
            "justify_items": null,
            "left": null,
            "margin": null,
            "max_height": null,
            "max_width": null,
            "min_height": null,
            "min_width": null,
            "object_fit": null,
            "object_position": null,
            "order": null,
            "overflow": null,
            "padding": null,
            "right": null,
            "top": null,
            "visibility": null,
            "width": null
          }
        },
        "49ae51beb9e44667bf428d888e110fc3": {
          "model_module": "@jupyter-widgets/controls",
          "model_name": "ProgressStyleModel",
          "model_module_version": "2.0.0",
          "state": {
            "_model_module": "@jupyter-widgets/controls",
            "_model_module_version": "2.0.0",
            "_model_name": "ProgressStyleModel",
            "_view_count": null,
            "_view_module": "@jupyter-widgets/base",
            "_view_module_version": "2.0.0",
            "_view_name": "StyleView",
            "bar_color": null,
            "description_width": ""
          }
        },
        "f7c8d8a56fff4c02bd8bd4a24428ac75": {
          "model_module": "@jupyter-widgets/base",
          "model_name": "LayoutModel",
          "model_module_version": "2.0.0",
          "state": {
            "_model_module": "@jupyter-widgets/base",
            "_model_module_version": "2.0.0",
            "_model_name": "LayoutModel",
            "_view_count": null,
            "_view_module": "@jupyter-widgets/base",
            "_view_module_version": "2.0.0",
            "_view_name": "LayoutView",
            "align_content": null,
            "align_items": null,
            "align_self": null,
            "border_bottom": null,
            "border_left": null,
            "border_right": null,
            "border_top": null,
            "bottom": null,
            "display": null,
            "flex": null,
            "flex_flow": null,
            "grid_area": null,
            "grid_auto_columns": null,
            "grid_auto_flow": null,
            "grid_auto_rows": null,
            "grid_column": null,
            "grid_gap": null,
            "grid_row": null,
            "grid_template_areas": null,
            "grid_template_columns": null,
            "grid_template_rows": null,
            "height": null,
            "justify_content": null,
            "justify_items": null,
            "left": null,
            "margin": null,
            "max_height": null,
            "max_width": null,
            "min_height": null,
            "min_width": null,
            "object_fit": null,
            "object_position": null,
            "order": null,
            "overflow": null,
            "padding": null,
            "right": null,
            "top": null,
            "visibility": null,
            "width": null
          }
        },
        "35ea06c36daa4830bbb5346fa084b6a6": {
          "model_module": "@jupyter-widgets/controls",
          "model_name": "HTMLStyleModel",
          "model_module_version": "2.0.0",
          "state": {
            "_model_module": "@jupyter-widgets/controls",
            "_model_module_version": "2.0.0",
            "_model_name": "HTMLStyleModel",
            "_view_count": null,
            "_view_module": "@jupyter-widgets/base",
            "_view_module_version": "2.0.0",
            "_view_name": "StyleView",
            "background": null,
            "description_width": "",
            "font_size": null,
            "text_color": null
          }
        },
        "fee2710f7c1e48c6a93aacf80f2f9c1c": {
          "model_module": "@jupyter-widgets/controls",
          "model_name": "HBoxModel",
          "model_module_version": "2.0.0",
          "state": {
            "_dom_classes": [],
            "_model_module": "@jupyter-widgets/controls",
            "_model_module_version": "2.0.0",
            "_model_name": "HBoxModel",
            "_view_count": null,
            "_view_module": "@jupyter-widgets/controls",
            "_view_module_version": "2.0.0",
            "_view_name": "HBoxView",
            "box_style": "",
            "children": [
              "IPY_MODEL_1d5244a9bb0941049c50d4fcae795894",
              "IPY_MODEL_ed1464f406ce4935bd1677ffd0e47a48",
              "IPY_MODEL_99f64b60c24b45eca6d85b600ef43077"
            ],
            "layout": "IPY_MODEL_18b91ec765b54f7592517bcd52952472",
            "tabbable": null,
            "tooltip": null
          }
        },
        "1d5244a9bb0941049c50d4fcae795894": {
          "model_module": "@jupyter-widgets/controls",
          "model_name": "HTMLModel",
          "model_module_version": "2.0.0",
          "state": {
            "_dom_classes": [],
            "_model_module": "@jupyter-widgets/controls",
            "_model_module_version": "2.0.0",
            "_model_name": "HTMLModel",
            "_view_count": null,
            "_view_module": "@jupyter-widgets/controls",
            "_view_module_version": "2.0.0",
            "_view_name": "HTMLView",
            "description": "",
            "description_allow_html": false,
            "layout": "IPY_MODEL_4dac7156c2494e27877cf9a7404e2790",
            "placeholder": "​",
            "style": "IPY_MODEL_b393107a14a2437f9e072da0b37cea30",
            "tabbable": null,
            "tooltip": null,
            "value": "Extracting concrete_data_week4.zip: 100%"
          }
        },
        "ed1464f406ce4935bd1677ffd0e47a48": {
          "model_module": "@jupyter-widgets/controls",
          "model_name": "FloatProgressModel",
          "model_module_version": "2.0.0",
          "state": {
            "_dom_classes": [],
            "_model_module": "@jupyter-widgets/controls",
            "_model_module_version": "2.0.0",
            "_model_name": "FloatProgressModel",
            "_view_count": null,
            "_view_module": "@jupyter-widgets/controls",
            "_view_module_version": "2.0.0",
            "_view_name": "ProgressView",
            "bar_style": "success",
            "description": "",
            "description_allow_html": false,
            "layout": "IPY_MODEL_457412ba3fe44e3d8acb1403870207a4",
            "max": 80045,
            "min": 0,
            "orientation": "horizontal",
            "style": "IPY_MODEL_7defe4f48a5241b084c119e84c4f964d",
            "tabbable": null,
            "tooltip": null,
            "value": 80045
          }
        },
        "99f64b60c24b45eca6d85b600ef43077": {
          "model_module": "@jupyter-widgets/controls",
          "model_name": "HTMLModel",
          "model_module_version": "2.0.0",
          "state": {
            "_dom_classes": [],
            "_model_module": "@jupyter-widgets/controls",
            "_model_module_version": "2.0.0",
            "_model_name": "HTMLModel",
            "_view_count": null,
            "_view_module": "@jupyter-widgets/controls",
            "_view_module_version": "2.0.0",
            "_view_name": "HTMLView",
            "description": "",
            "description_allow_html": false,
            "layout": "IPY_MODEL_9edc077ef2b642e9b67db138d3cdd7aa",
            "placeholder": "​",
            "style": "IPY_MODEL_8133d4926daa4209ace65f67e6604780",
            "tabbable": null,
            "tooltip": null,
            "value": " 80045/80045 [00:13&lt;00:00, 6687.82it/s]"
          }
        },
        "18b91ec765b54f7592517bcd52952472": {
          "model_module": "@jupyter-widgets/base",
          "model_name": "LayoutModel",
          "model_module_version": "2.0.0",
          "state": {
            "_model_module": "@jupyter-widgets/base",
            "_model_module_version": "2.0.0",
            "_model_name": "LayoutModel",
            "_view_count": null,
            "_view_module": "@jupyter-widgets/base",
            "_view_module_version": "2.0.0",
            "_view_name": "LayoutView",
            "align_content": null,
            "align_items": null,
            "align_self": null,
            "border_bottom": null,
            "border_left": null,
            "border_right": null,
            "border_top": null,
            "bottom": null,
            "display": null,
            "flex": null,
            "flex_flow": null,
            "grid_area": null,
            "grid_auto_columns": null,
            "grid_auto_flow": null,
            "grid_auto_rows": null,
            "grid_column": null,
            "grid_gap": null,
            "grid_row": null,
            "grid_template_areas": null,
            "grid_template_columns": null,
            "grid_template_rows": null,
            "height": null,
            "justify_content": null,
            "justify_items": null,
            "left": null,
            "margin": null,
            "max_height": null,
            "max_width": null,
            "min_height": null,
            "min_width": null,
            "object_fit": null,
            "object_position": null,
            "order": null,
            "overflow": null,
            "padding": null,
            "right": null,
            "top": null,
            "visibility": null,
            "width": null
          }
        },
        "4dac7156c2494e27877cf9a7404e2790": {
          "model_module": "@jupyter-widgets/base",
          "model_name": "LayoutModel",
          "model_module_version": "2.0.0",
          "state": {
            "_model_module": "@jupyter-widgets/base",
            "_model_module_version": "2.0.0",
            "_model_name": "LayoutModel",
            "_view_count": null,
            "_view_module": "@jupyter-widgets/base",
            "_view_module_version": "2.0.0",
            "_view_name": "LayoutView",
            "align_content": null,
            "align_items": null,
            "align_self": null,
            "border_bottom": null,
            "border_left": null,
            "border_right": null,
            "border_top": null,
            "bottom": null,
            "display": null,
            "flex": null,
            "flex_flow": null,
            "grid_area": null,
            "grid_auto_columns": null,
            "grid_auto_flow": null,
            "grid_auto_rows": null,
            "grid_column": null,
            "grid_gap": null,
            "grid_row": null,
            "grid_template_areas": null,
            "grid_template_columns": null,
            "grid_template_rows": null,
            "height": null,
            "justify_content": null,
            "justify_items": null,
            "left": null,
            "margin": null,
            "max_height": null,
            "max_width": null,
            "min_height": null,
            "min_width": null,
            "object_fit": null,
            "object_position": null,
            "order": null,
            "overflow": null,
            "padding": null,
            "right": null,
            "top": null,
            "visibility": null,
            "width": null
          }
        },
        "b393107a14a2437f9e072da0b37cea30": {
          "model_module": "@jupyter-widgets/controls",
          "model_name": "HTMLStyleModel",
          "model_module_version": "2.0.0",
          "state": {
            "_model_module": "@jupyter-widgets/controls",
            "_model_module_version": "2.0.0",
            "_model_name": "HTMLStyleModel",
            "_view_count": null,
            "_view_module": "@jupyter-widgets/base",
            "_view_module_version": "2.0.0",
            "_view_name": "StyleView",
            "background": null,
            "description_width": "",
            "font_size": null,
            "text_color": null
          }
        },
        "457412ba3fe44e3d8acb1403870207a4": {
          "model_module": "@jupyter-widgets/base",
          "model_name": "LayoutModel",
          "model_module_version": "2.0.0",
          "state": {
            "_model_module": "@jupyter-widgets/base",
            "_model_module_version": "2.0.0",
            "_model_name": "LayoutModel",
            "_view_count": null,
            "_view_module": "@jupyter-widgets/base",
            "_view_module_version": "2.0.0",
            "_view_name": "LayoutView",
            "align_content": null,
            "align_items": null,
            "align_self": null,
            "border_bottom": null,
            "border_left": null,
            "border_right": null,
            "border_top": null,
            "bottom": null,
            "display": null,
            "flex": null,
            "flex_flow": null,
            "grid_area": null,
            "grid_auto_columns": null,
            "grid_auto_flow": null,
            "grid_auto_rows": null,
            "grid_column": null,
            "grid_gap": null,
            "grid_row": null,
            "grid_template_areas": null,
            "grid_template_columns": null,
            "grid_template_rows": null,
            "height": null,
            "justify_content": null,
            "justify_items": null,
            "left": null,
            "margin": null,
            "max_height": null,
            "max_width": null,
            "min_height": null,
            "min_width": null,
            "object_fit": null,
            "object_position": null,
            "order": null,
            "overflow": null,
            "padding": null,
            "right": null,
            "top": null,
            "visibility": null,
            "width": null
          }
        },
        "7defe4f48a5241b084c119e84c4f964d": {
          "model_module": "@jupyter-widgets/controls",
          "model_name": "ProgressStyleModel",
          "model_module_version": "2.0.0",
          "state": {
            "_model_module": "@jupyter-widgets/controls",
            "_model_module_version": "2.0.0",
            "_model_name": "ProgressStyleModel",
            "_view_count": null,
            "_view_module": "@jupyter-widgets/base",
            "_view_module_version": "2.0.0",
            "_view_name": "StyleView",
            "bar_color": null,
            "description_width": ""
          }
        },
        "9edc077ef2b642e9b67db138d3cdd7aa": {
          "model_module": "@jupyter-widgets/base",
          "model_name": "LayoutModel",
          "model_module_version": "2.0.0",
          "state": {
            "_model_module": "@jupyter-widgets/base",
            "_model_module_version": "2.0.0",
            "_model_name": "LayoutModel",
            "_view_count": null,
            "_view_module": "@jupyter-widgets/base",
            "_view_module_version": "2.0.0",
            "_view_name": "LayoutView",
            "align_content": null,
            "align_items": null,
            "align_self": null,
            "border_bottom": null,
            "border_left": null,
            "border_right": null,
            "border_top": null,
            "bottom": null,
            "display": null,
            "flex": null,
            "flex_flow": null,
            "grid_area": null,
            "grid_auto_columns": null,
            "grid_auto_flow": null,
            "grid_auto_rows": null,
            "grid_column": null,
            "grid_gap": null,
            "grid_row": null,
            "grid_template_areas": null,
            "grid_template_columns": null,
            "grid_template_rows": null,
            "height": null,
            "justify_content": null,
            "justify_items": null,
            "left": null,
            "margin": null,
            "max_height": null,
            "max_width": null,
            "min_height": null,
            "min_width": null,
            "object_fit": null,
            "object_position": null,
            "order": null,
            "overflow": null,
            "padding": null,
            "right": null,
            "top": null,
            "visibility": null,
            "width": null
          }
        },
        "8133d4926daa4209ace65f67e6604780": {
          "model_module": "@jupyter-widgets/controls",
          "model_name": "HTMLStyleModel",
          "model_module_version": "2.0.0",
          "state": {
            "_model_module": "@jupyter-widgets/controls",
            "_model_module_version": "2.0.0",
            "_model_name": "HTMLStyleModel",
            "_view_count": null,
            "_view_module": "@jupyter-widgets/base",
            "_view_module_version": "2.0.0",
            "_view_name": "StyleView",
            "background": null,
            "description_width": "",
            "font_size": null,
            "text_color": null
          }
        }
      }
    },
    "accelerator": "GPU"
  },
  "nbformat": 4,
  "nbformat_minor": 0
}